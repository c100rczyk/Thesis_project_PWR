{
 "cells": [
  {
   "cell_type": "code",
   "id": "initial_id",
   "metadata": {
    "collapsed": true,
    "ExecuteTime": {
     "end_time": "2024-08-18T08:56:22.702282Z",
     "start_time": "2024-08-18T08:56:21.609150Z"
    }
   },
   "source": [
    "import fiftyone as fo\n",
    "import fiftyone.zoo as foz\n"
   ],
   "outputs": [],
   "execution_count": 1
  },
  {
   "metadata": {
    "ExecuteTime": {
     "end_time": "2024-08-18T08:58:53.630744Z",
     "start_time": "2024-08-18T08:57:42.452923Z"
    }
   },
   "cell_type": "code",
   "source": [
    "dataset = foz.load_zoo_dataset(\n",
    "    \"coco-2017\",\n",
    "    split=\"validation\",\n",
    "    dataset_name = \"dane_do_treningu\"\n",
    ")"
   ],
   "id": "8167cc0e6d6a94cb",
   "outputs": [
    {
     "name": "stdout",
     "output_type": "stream",
     "text": [
      "Downloading split 'validation' to '/home/c100rczyk/fiftyone/coco-2017/validation' if necessary\n",
      "Downloading annotations to '/home/c100rczyk/fiftyone/coco-2017/tmp-download/annotations_trainval2017.zip'\n",
      " 100% |██████|    1.9Gb/1.9Gb [14.6s elapsed, 0s remaining, 139.7Mb/s]      \n",
      "Extracting annotations to '/home/c100rczyk/fiftyone/coco-2017/raw/instances_val2017.json'\n",
      "Downloading images to '/home/c100rczyk/fiftyone/coco-2017/tmp-download/val2017.zip'\n",
      " 100% |██████|    6.1Gb/6.1Gb [32.6s elapsed, 0s remaining, 202.1Mb/s]      \n",
      "Extracting images to '/home/c100rczyk/fiftyone/coco-2017/validation/data'\n",
      "Writing annotations to '/home/c100rczyk/fiftyone/coco-2017/validation/labels.json'\n",
      "Dataset info written to '/home/c100rczyk/fiftyone/coco-2017/info.json'\n",
      "Migrating database to v0.24.1\n",
      "Loading 'coco-2017' split 'validation'\n",
      " 100% |███████████████| 5000/5000 [15.7s elapsed, 0s remaining, 325.5 samples/s]      \n",
      "Dataset 'dane_do_treningu' created\n"
     ]
    }
   ],
   "execution_count": 2
  },
  {
   "metadata": {
    "ExecuteTime": {
     "end_time": "2024-08-18T08:59:20.659123Z",
     "start_time": "2024-08-18T08:59:20.653648Z"
    }
   },
   "cell_type": "code",
   "source": "print(dataset)",
   "id": "e02da0bacb6bfea0",
   "outputs": [
    {
     "name": "stdout",
     "output_type": "stream",
     "text": [
      "Name:        dane_do_treningu\n",
      "Media type:  image\n",
      "Num samples: 5000\n",
      "Persistent:  False\n",
      "Tags:        []\n",
      "Sample fields:\n",
      "    id:           fiftyone.core.fields.ObjectIdField\n",
      "    filepath:     fiftyone.core.fields.StringField\n",
      "    tags:         fiftyone.core.fields.ListField(fiftyone.core.fields.StringField)\n",
      "    metadata:     fiftyone.core.fields.EmbeddedDocumentField(fiftyone.core.metadata.ImageMetadata)\n",
      "    ground_truth: fiftyone.core.fields.EmbeddedDocumentField(fiftyone.core.labels.Detections)\n"
     ]
    }
   ],
   "execution_count": 3
  },
  {
   "metadata": {
    "ExecuteTime": {
     "end_time": "2024-08-18T09:01:46.478736Z",
     "start_time": "2024-08-18T09:01:46.465700Z"
    }
   },
   "cell_type": "code",
   "source": [
    "sample = dataset.first()\n",
    "sample.ground_truth.detections[0]"
   ],
   "id": "37ed731d38c4183d",
   "outputs": [
    {
     "data": {
      "text/plain": [
       "<Detection: {\n",
       "    'id': '66c1b7bd537e0dafdca82c1e',\n",
       "    'attributes': {},\n",
       "    'tags': [],\n",
       "    'label': 'potted plant',\n",
       "    'bounding_box': [\n",
       "        0.37028125,\n",
       "        0.3345305164319249,\n",
       "        0.038593749999999996,\n",
       "        0.16314553990610328,\n",
       "    ],\n",
       "    'mask': None,\n",
       "    'confidence': None,\n",
       "    'index': None,\n",
       "    'supercategory': 'furniture',\n",
       "    'iscrowd': 0,\n",
       "}>"
      ]
     },
     "execution_count": 6,
     "metadata": {},
     "output_type": "execute_result"
    }
   ],
   "execution_count": 6
  },
  {
   "metadata": {
    "ExecuteTime": {
     "end_time": "2024-08-18T09:11:50.482883Z",
     "start_time": "2024-08-18T09:11:50.480842Z"
    }
   },
   "cell_type": "code",
   "source": "# session = fo.launch_app(dataset)",
   "id": "60ecc00223ae0c79",
   "outputs": [],
   "execution_count": 9
  },
  {
   "metadata": {},
   "cell_type": "code",
   "outputs": [],
   "execution_count": null,
   "source": "",
   "id": "caf39faa29fa5983"
  }
 ],
 "metadata": {
  "kernelspec": {
   "display_name": "Python 3",
   "language": "python",
   "name": "python3"
  },
  "language_info": {
   "codemirror_mode": {
    "name": "ipython",
    "version": 2
   },
   "file_extension": ".py",
   "mimetype": "text/x-python",
   "name": "python",
   "nbconvert_exporter": "python",
   "pygments_lexer": "ipython2",
   "version": "2.7.6"
  }
 },
 "nbformat": 4,
 "nbformat_minor": 5
}
