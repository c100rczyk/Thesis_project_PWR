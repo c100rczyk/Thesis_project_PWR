{
 "cells": [
  {
   "cell_type": "code",
   "id": "initial_id",
   "metadata": {
    "collapsed": true,
    "ExecuteTime": {
     "end_time": "2024-08-27T10:40:49.245425Z",
     "start_time": "2024-08-27T10:40:49.240130Z"
    }
   },
   "source": [
    "import os\n",
    "HOME = os.getcwd()\n",
    "print(HOME)"
   ],
   "outputs": [
    {
     "name": "stdout",
     "output_type": "stream",
     "text": [
      "/home/c100rczyk/Projekty/Thesis_project_PWR/backend_3D\n"
     ]
    }
   ],
   "execution_count": 1
  },
  {
   "metadata": {
    "ExecuteTime": {
     "end_time": "2024-08-27T10:40:54.243367Z",
     "start_time": "2024-08-27T10:40:50.325328Z"
    }
   },
   "cell_type": "code",
   "source": [
    "# pobieranie wag modelu do detekcji obiektów\n",
    "!wget -P {HOME}/weights -q https://github.com/WongKinYiu/yolov9/releases/download/v0.1/yolov9-c.pt"
   ],
   "id": "655fa8f91d770acc",
   "outputs": [],
   "execution_count": 2
  },
  {
   "metadata": {
    "ExecuteTime": {
     "end_time": "2024-08-27T10:40:55.259669Z",
     "start_time": "2024-08-27T10:40:54.989862Z"
    }
   },
   "cell_type": "code",
   "source": [
    "# sprawdzenie pliku\n",
    "!ls -la {HOME}/weights"
   ],
   "id": "1806b6b58d46de44",
   "outputs": [
    {
     "name": "stdout",
     "output_type": "stream",
     "text": [
      "total 201484\r\n",
      "drwxrwxr-x 2 c100rczyk c100rczyk      4096 Aug 27 12:40 .\r\n",
      "drwxrwxr-x 7 c100rczyk c100rczyk      4096 Aug 27 12:40 ..\r\n",
      "-rw-rw-r-- 1 c100rczyk c100rczyk 103153312 Feb 18  2024 yolov9-c.pt\r\n",
      "-rw-rw-r-- 1 c100rczyk c100rczyk 103153312 Feb 18  2024 yolov9-c.pt.1\r\n"
     ]
    }
   ],
   "execution_count": 3
  },
  {
   "metadata": {
    "ExecuteTime": {
     "end_time": "2024-08-27T10:40:56.911361Z",
     "start_time": "2024-08-27T10:40:56.293160Z"
    }
   },
   "cell_type": "code",
   "source": [
    "# Pobranie danych do testów\n",
    "!wget -P {HOME}/data -q https://media.roboflow.com/notebooks/examples/dog.jpeg"
   ],
   "id": "169b2b760e9e7b3a",
   "outputs": [],
   "execution_count": 4
  },
  {
   "metadata": {
    "ExecuteTime": {
     "end_time": "2024-08-27T10:40:58.039030Z",
     "start_time": "2024-08-27T10:40:58.036175Z"
    }
   },
   "cell_type": "code",
   "source": "SOURCE_IMAGE_PATH = f\"{HOME}/data/dog.jpeg\"",
   "id": "ccc280a4ccbc5129",
   "outputs": [],
   "execution_count": 5
  },
  {
   "metadata": {
    "ExecuteTime": {
     "end_time": "2024-08-27T10:40:59.935334Z",
     "start_time": "2024-08-27T10:40:59.929537Z"
    }
   },
   "cell_type": "code",
   "source": "SOURCE_IMAGE_PATH",
   "id": "6f7acce771d70326",
   "outputs": [
    {
     "data": {
      "text/plain": [
       "'/home/c100rczyk/Projekty/Thesis_project_PWR/backend_3D/data/dog.jpeg'"
      ]
     },
     "execution_count": 6,
     "metadata": {},
     "output_type": "execute_result"
    }
   ],
   "execution_count": 6
  },
  {
   "metadata": {
    "ExecuteTime": {
     "end_time": "2024-08-27T10:41:06.639768Z",
     "start_time": "2024-08-27T10:41:00.838433Z"
    }
   },
   "cell_type": "code",
   "source": [
    "# skrypt, wagi, konfiguracja, zdjęcie , gpu\n",
    "\n",
    "\n",
    "!python YOLO_LIBRARY/detect.py --weights {HOME}/weights/yolov9-c.pt --conf 0.4 --source {HOME}/data/intel_test_2_rgb_Color.png --device 0"
   ],
   "id": "f503cef4cd1aec58",
   "outputs": [
    {
     "name": "stdout",
     "output_type": "stream",
     "text": [
      "\u001B[34m\u001B[1mdetect: \u001B[0mweights=['/home/c100rczyk/Projekty/Thesis_project_PWR/backend_3D/weights/yolov9-c.pt'], source=/home/c100rczyk/Projekty/Thesis_project_PWR/backend_3D/data/intel_test_2_rgb_Color.png, data=YOLO_LIBRARY/data/coco128.yaml, imgsz=[640, 640], conf_thres=0.4, iou_thres=0.45, max_det=1000, device=0, view_img=False, save_txt=False, save_conf=False, save_crop=False, nosave=False, classes=None, agnostic_nms=False, augment=False, visualize=False, update=False, project=YOLO_LIBRARY/runs/detect, name=exp, exist_ok=False, line_thickness=3, hide_labels=False, hide_conf=False, half=False, dnn=False, vid_stride=1\r\n",
      "YOLOv5 🚀 2024-8-18 Python-3.10.13 torch-2.4.0 CUDA:0 (NVIDIA GeForce RTX 4060, 7932MiB)\r\n",
      "\r\n",
      "/home/c100rczyk/Projekty/Thesis_project_PWR/backend_3D/YOLO_LIBRARY/models/experimental.py:75: FutureWarning: You are using `torch.load` with `weights_only=False` (the current default value), which uses the default pickle module implicitly. It is possible to construct malicious pickle data which will execute arbitrary code during unpickling (See https://github.com/pytorch/pytorch/blob/main/SECURITY.md#untrusted-models for more details). In a future release, the default value for `weights_only` will be flipped to `True`. This limits the functions that could be executed during unpickling. Arbitrary objects will no longer be allowed to be loaded via this mode unless they are explicitly allowlisted by the user via `torch.serialization.add_safe_globals`. We recommend you start setting `weights_only=True` for any use case where you don't have full control of the loaded file. Please open an issue on GitHub for any issues related to this experimental feature.\r\n",
      "  ckpt = torch.load(attempt_download(w), map_location='cpu')  # load\r\n",
      "Fusing layers... \r\n",
      "Model summary: 724 layers, 51141120 parameters, 0 gradients, 238.7 GFLOPs\r\n",
      "image 1/1 /home/c100rczyk/Projekty/Thesis_project_PWR/backend_3D/data/intel_test_2_rgb_Color.png: 384x640 1 backpack, 1 sports ball, 2 bottles, 2 cups, 1 chair, 1 dining table, 1 toaster, 67.8ms\r\n",
      "Speed: 0.4ms pre-process, 67.8ms inference, 274.8ms NMS per image at shape (1, 3, 640, 640)\r\n",
      "Results saved to \u001B[1mYOLO_LIBRARY/runs/detect/exp8\u001B[0m\r\n"
     ]
    }
   ],
   "execution_count": 7
  },
  {
   "metadata": {},
   "cell_type": "code",
   "outputs": [],
   "execution_count": null,
   "source": "",
   "id": "b683c30606c2ddcd"
  }
 ],
 "metadata": {
  "kernelspec": {
   "display_name": "Python 3",
   "language": "python",
   "name": "python3"
  },
  "language_info": {
   "codemirror_mode": {
    "name": "ipython",
    "version": 2
   },
   "file_extension": ".py",
   "mimetype": "text/x-python",
   "name": "python",
   "nbconvert_exporter": "python",
   "pygments_lexer": "ipython2",
   "version": "2.7.6"
  }
 },
 "nbformat": 4,
 "nbformat_minor": 5
}
