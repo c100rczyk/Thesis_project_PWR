{
 "cells": [
  {
   "metadata": {},
   "cell_type": "markdown",
   "source": [
    "Object Detection :\n",
    "\n",
    "+ Prepare Dataset\n",
    "+ Visualization\n",
    "+ Define Network\n",
    "+ Training\n",
    "+ Evaluation\n",
    "\n"
   ],
   "id": "dd30656c54875daf"
  },
  {
   "metadata": {},
   "cell_type": "markdown",
   "source": [
    "@techreport{WahCUB_200_2011,\\\n",
    "\tTitle = ,\\\n",
    "\tAuthor = {Wah, C. and Branson, S. and Welinder, P. and Perona, P. and Belongie, S.},\\\n",
    "\tYear = {2011}\\\n",
    "\tInstitution = {California Institute of Technology},\\\n",
    "\tNumber = {CNS-TR-2011-001}\\\n",
    "}"
   ],
   "id": "b36a129da9f40ab4"
  },
  {
   "metadata": {
    "ExecuteTime": {
     "end_time": "2024-09-20T17:29:55.766684Z",
     "start_time": "2024-09-20T17:29:55.764016Z"
    }
   },
   "cell_type": "code",
   "source": [
    "import os\n",
    "import sys\n",
    "import PIL\n",
    "from PIL import Image\n",
    "import tensorflow as tf\n",
    "import keras\n",
    "import numpy as np\n",
    "import matplotlib.pyplot as plt\n",
    "import pandas as pd\n",
    "\n",
    "from keras.api.layers import Dense, Flatten, GlobalAveragePooling2D, UpSampling2D, Input\n"
   ],
   "id": "9484954a45bea585",
   "outputs": [],
   "execution_count": 36
  },
  {
   "metadata": {
    "ExecuteTime": {
     "end_time": "2024-09-20T17:29:55.933821Z",
     "start_time": "2024-09-20T17:29:55.931294Z"
    }
   },
   "cell_type": "code",
   "source": [
    "import cv2\n",
    "image_data_path = '../data/CUB_200_2011/CUB_200_2011/images'"
   ],
   "id": "ff9f24bd4328e708",
   "outputs": [],
   "execution_count": 37
  },
  {
   "metadata": {},
   "cell_type": "markdown",
   "source": "# Visualization",
   "id": "e5133f5c52945333"
  },
  {
   "metadata": {
    "ExecuteTime": {
     "end_time": "2024-09-20T17:29:56.248457Z",
     "start_time": "2024-09-20T17:29:56.242816Z"
    }
   },
   "cell_type": "code",
   "source": [
    "# def draw_bounding_box_on_image(image, x_min, y_min, x_max, y_max, thickness=5):\n",
    "#     \"\"\"\n",
    "#     Dodawanie bounding box do zdjęcia. Współrzędne mogą być znormalizowane\n",
    "#     lub normalne (według wymiarów zdjęcia). \n",
    "#     :param image: PIL image object\n",
    "#     \"\"\"\n",
    "#     # zamiana na odpowiedni format do przetwarzania zdjęcia\n",
    "#     if isinstance(image, Image.Image):\n",
    "#         image = np.array(image)\n",
    "#     \n",
    "#     # image_width = image.size[0]\n",
    "#     # image_height = image.size[1]\n",
    "#     if image.dtype != np.uint8:\n",
    "#         image = (image * 255).astype(np.uint8)\n",
    "#     cv2.rectangle(image, (int(x_min), int(y_min)), (int(x_max), int(y_max)), thickness=5)\n",
    "#     #cv2.rectangle(image, x_min, y_min, x_max, y_max, color)\n",
    "#     \n",
    "# def draw_bounding_boxes_on_image(image, bboxes, thickness=5):\n",
    "#     \"\"\"\n",
    "#     Rysuje Bounding boxy za zdjęciu\n",
    "#     :param image: \n",
    "#     :param bboxes: \n",
    "#     :param color: \n",
    "#     :param thickness: \n",
    "#     \"\"\"\n",
    "#     # boxes_shape = bboxes.shape\n",
    "#     # if not boxes_shape:\n",
    "#     #     return\n",
    "#     # # if len(boxes_shape) != 2 or boxes_shape[1] != 4:\n",
    "#     # #     raise ValueError('input size has to be [N,4]')\n",
    "#     # for i in range(boxes_shape[0]):\n",
    "#     #     x_min, y_min, x_max, y_max = bboxes[i]\n",
    "#     #     draw_bounding_box_on_image(image, x_min, y_min, x_max, y_max, thickness)\n",
    "#     \n",
    "#     boxes_shape = bboxes.shape\n",
    "#     if not boxes_shape:\n",
    "#         return\n",
    "#     if len(boxes_shape) != 2 or boxes_shape[1] != 4:\n",
    "#         raise ValueError('Input must be of size [N, 4]')\n",
    "#     for i in range(boxes_shape[0]):\n",
    "#         draw_bounding_box_on_image(image, bboxes[i, 1], bboxes[i, 0], bboxes[i, 3],\n",
    "#                                  bboxes[i, 2], thickness)\n",
    "#     \n",
    "# def draw_bounding_boxes_on_image_array(image, bboxes, color=(255, 0, 0), thickness=5) -> np.ndarray:\n",
    "#     \"\"\"\n",
    "#     Draw bounding boxes on image (numpy array)\n",
    "#     :param image: \n",
    "#     :param bboxes: \n",
    "#     :param color: \n",
    "#     :param thickness: \n",
    "#     :return: \n",
    "#     \"\"\"\n",
    "#     draw_bounding_boxes_on_image(image, bboxes, thickness)\n",
    "#     return image\n",
    "\n",
    "def draw_bounding_box_on_image(image, ymin, xmin ,ymax, xmax, color=(255, 0, 0), thickness=5):\n",
    "    \"\"\"\n",
    "    Adds a bounding box to an image.\n",
    "    Bounding box coordinates can be specified in either absolute (pixel) or\n",
    "    normalized coordinates by setting the use_normalized_coordinates argument.\n",
    "\n",
    "    Args:\n",
    "      image: a PIL.Image object.\n",
    "      ymin: ymin of bounding box.\n",
    "      xmin: xmin of bounding box.\n",
    "      ymax: ymax of bounding box.\n",
    "      xmax: xmax of bounding box.\n",
    "      color: color to draw bounding box. Default is red.\n",
    "      thickness: line thickness. Default value is 4.\n",
    "    \"\"\"\n",
    "\n",
    "    image_width = image.shape[1]\n",
    "    image_height = image.shape[0]\n",
    "    cv2.rectangle(image, (int(xmin), int(ymin)), (int(xmax), int(ymax)), color, thickness)\n",
    "\n",
    "\n",
    "def draw_bounding_boxes_on_image(image, boxes, color=[], thickness=5):\n",
    "    \"\"\"\n",
    "    Draws bounding boxes on image.\n",
    "\n",
    "    Args:\n",
    "      image: a PIL.Image object.\n",
    "      boxes: a 2 dimensional numpy array of [N, 4]: (ymin, xmin, ymax, xmax).\n",
    "             The coordinates are in normalized format between [0, 1].\n",
    "      color: color to draw bounding box. Default is red.\n",
    "      thickness: line thickness. Default value is 4.\n",
    "\n",
    "    Raises:\n",
    "      ValueError: if boxes is not a [N, 4] array\n",
    "    \"\"\"\n",
    "\n",
    "    boxes_shape = boxes.shape\n",
    "    # Reshape boxes if necessary\n",
    "    if boxes.ndim == 1 and boxes.shape[0] == 4:\n",
    "        print(f\"nastąpiła zmiana wymiarów \")\n",
    "        boxes = boxes.reshape(1, 4)\n",
    "        boxes_shape = boxes.shape\n",
    "        \n",
    "    print(f\"boxes shape in draw_bounding_boxes_on_image: {boxes_shape}\")\n",
    "    print(f\"image shape in draw_bounding_boxes_on_image: {image.shape}\")\n",
    "    if not boxes_shape:\n",
    "        return\n",
    "    if len(boxes_shape) != 2 or boxes_shape[1] != 4:\n",
    "        raise ValueError('Input must be of size [N, 4]')\n",
    "    for i in range(boxes_shape[0]):\n",
    "        draw_bounding_box_on_image(image, boxes[i, 0], boxes[i, 1], boxes[i, 2],\n",
    "                                 boxes[i, 3], color[i], thickness)\n",
    "\n",
    "\n",
    "def draw_bounding_boxes_on_image_array(image, boxes, color=[], thickness=5):\n",
    "    \"\"\"\n",
    "    Draws bounding boxes on image (numpy array).\n",
    "\n",
    "    Args:\n",
    "      image: a numpy array object.\n",
    "      boxes: a 2 dimensional numpy array of [N, 4]: (ymin, xmin, ymax, xmax).\n",
    "             The coordinates are in normalized format between [0, 1].\n",
    "      color: color to draw bounding box. Default is red.\n",
    "      thickness: line thickness. Default value is 4.\n",
    "      display_str_list_list: a list of strings for each bounding box.\n",
    "\n",
    "    Raises:\n",
    "      ValueError: if boxes is not a [N, 4] array\n",
    "    \"\"\"\n",
    "    print(image.shape)\n",
    "    print(boxes.shape)\n",
    "    \n",
    "    \n",
    "    draw_bounding_boxes_on_image(image, boxes, color, thickness)\n",
    "\n",
    "    return image\n",
    "    "
   ],
   "id": "d614e25cd0454710",
   "outputs": [],
   "execution_count": 38
  },
  {
   "metadata": {
    "ExecuteTime": {
     "end_time": "2024-09-20T17:29:56.441944Z",
     "start_time": "2024-09-20T17:29:56.439484Z"
    }
   },
   "cell_type": "code",
   "source": [
    "# globalna konfiguracja parametrów wykresów:\n",
    "plt.rc('image', cmap='gray')\n",
    "plt.rc('grid', linewidth=0)\n",
    "plt.rc('xtick', top=False, bottom=False, labelsize='large')\n"
   ],
   "id": "60a040ed407cd4e3",
   "outputs": [],
   "execution_count": 39
  },
  {
   "metadata": {
    "ExecuteTime": {
     "end_time": "2024-09-20T17:29:56.643070Z",
     "start_time": "2024-09-20T17:29:56.635582Z"
    }
   },
   "cell_type": "code",
   "source": [
    "# Wizualizacja\n",
    "iou_threshold = 0.5\n",
    "\n",
    "def display_row_of_images_with_boxes_and_iou(images, pred_bboxes, bboxes, iou, title, bboxes_normalized=False):\n",
    "    \"\"\"\n",
    "    Rysowanie zdjęć z bounding boxami rzeczywistymi (ground truth) oraz przewidywanymi.\n",
    "    Do tego przedstawienie wyniu IoU (pokrycia przewydywania z wartością rzeczywistą).\n",
    "    :param image: \n",
    "    :param pred_bboxes: \n",
    "    :param bboxes: \n",
    "    :param iou: \n",
    "    :param title: \n",
    "    :param bboxes_normalized: \n",
    "    :return: \n",
    "    \"\"\"\n",
    "    n = len(images)\n",
    "    print(f\"length of images in display_row_of_images_with_boxes_and_iou: {n}\")\n",
    "    fig = plt.figure(figsize=(20, 4))\n",
    "    plt.title(title)\n",
    "    plt.yticks([])\n",
    "    plt.xticks([])\n",
    "    \n",
    "    # for i in range(n):\n",
    "    #     ax = plt.subplot(1, n, i+1)\n",
    "    #     bounding_boxes_list = []\n",
    "    #     if(len(pred_bboxes) > i):\n",
    "    #         bbox = pred_bboxes[i]\n",
    "    #         # przeskalowanie współrzędnych do rozmiarów obrazu\n",
    "    #         bbox = [\n",
    "    #             bbox[0] * images[i].shape[1],\n",
    "    #             bbox[1] * images[i].shape[0],\n",
    "    #             bbox[2] * images[i].shape[1],\n",
    "    #             bbox[3] * images[i].shape[0]\n",
    "    #         ]\n",
    "    #         bounding_boxes_list.append(bbox)\n",
    "    #     if(len(bboxes) > i):\n",
    "    #         bbox = bboxes[i]\n",
    "    #         if bboxes_normalized:\n",
    "    #             # przeskalowanie jest konieczne, aby narysować na obrazie\n",
    "    #             bbox = [\n",
    "    #                 bbox[0] * images[i].shape[1],\n",
    "    #                 bbox[1] * images[i].shape[0],\n",
    "    #                 bbox[2] * images[i].shape[1],\n",
    "    #                 bbox[3] * images[i].shape[0]\n",
    "    #             ]\n",
    "    #         bounding_boxes_list.append(bbox)\n",
    "    #         \n",
    "    #     img_to_draw = draw_bounding_boxes_on_image_array(image = images[i], boxes= np.asarray(bounding_boxes_list), color=[(255,0,0), (0, 255, 0)])\n",
    "    #     \n",
    "    #     plt.xticks([])\n",
    "    #     plt.yticks([])\n",
    "    #     \n",
    "    #     plt.imshow(img_to_draw)\n",
    "    #     # sprawdzamy dla każdego IoU które istnieje\n",
    "    #     # czy jest powyżej progu czy poniżej. \n",
    "    #     # wybieramy odpowiedni kolor \n",
    "    #     \n",
    "    #     if(len(iou) > i):\n",
    "    #         color = 'black'\n",
    "    #         if(iou[i][0] < iou_threshold):\n",
    "    #             color = 'red'\n",
    "    #         ax.text(0.2 , -0.3, f\"IoU : {iou[i][0]}\", color=color, transform=ax.transAxes)\n",
    "    for i in range(n):\n",
    "        ax = fig.add_subplot(1, 10, i+1)\n",
    "        bboxes_to_plot = []\n",
    "        if (len(pred_bboxes) > i):\n",
    "            bbox = pred_bboxes[i]\n",
    "            bbox = [bbox[0] * images[i].shape[1], bbox[1] * images[i].shape[0], bbox[2] * images[i].shape[1], bbox[3] * images[i].shape[0]]\n",
    "            bboxes_to_plot.append(bbox)\n",
    "    \n",
    "        if (len(bboxes) > i):\n",
    "            bbox = bboxes[i]\n",
    "            if bboxes_normalized == True:\n",
    "                bbox = [bbox[0] * images[i].shape[1],bbox[1] * images[i].shape[0], bbox[2] * images[i].shape[1], bbox[3] * images[i].shape[0] ]\n",
    "            bboxes_to_plot.append(bbox)\n",
    "            \n",
    "        print(f\"bboxes to plot: {np.squeeze(np.asarray(bboxes_to_plot))}\")\n",
    "        img_to_draw = draw_bounding_boxes_on_image_array(image=images[i], boxes=np.squeeze(np.asarray(bboxes_to_plot)), color=[(255,0,0), (0, 255, 0)])\n",
    "        plt.xticks([])\n",
    "        plt.yticks([])\n",
    "    \n",
    "        plt.imshow(img_to_draw)\n",
    "    \n",
    "        if len(iou) > i :\n",
    "            color = \"black\"\n",
    "            if (iou[i][0] < iou_threshold):\n",
    "                color = \"red\"\n",
    "            ax.text(0.2, -0.3, \"iou: %s\" %(iou[i][0]), color=color, transform=ax.transAxes)\n",
    "            \n",
    "# def display_history_metrics_after_training(metrics_name, title):\n",
    "#     plt.title(title)\n",
    "#     plt.plot(history.history[metrics_name], color='blue', label=metrics_name)\n",
    "#     plt.plot(history.history['val_'+metrics_name], color='green', label='val_' + metrics_name)\n",
    "    \n",
    "    "
   ],
   "id": "6adaa91eead56031",
   "outputs": [],
   "execution_count": 40
  },
  {
   "metadata": {
    "ExecuteTime": {
     "end_time": "2024-09-20T18:51:26.217567Z",
     "start_time": "2024-09-20T18:51:26.213930Z"
    }
   },
   "cell_type": "code",
   "source": [
    "# Przygotowanie normalizacji danych\n",
    "\n",
    "# read_image_tfds()\n",
    "def prepare_image_and_bbox_to_train(image, bbox):\n",
    "    \"\"\"\n",
    "    Przygotowanie zdjęć i bounding boxów do uczenia modelu\n",
    "    :param image: zdjęcie\n",
    "    :param bbox: bounding box\n",
    "    :return: znormalizowane zdjęcie , znormalizowany bbox\n",
    "    \"\"\"\n",
    "    # upewnienie się że obraz jest w formacie zmiennoprzecinkowym\n",
    "    # wrzucając dane do modeli należy wrzucać je w formacie zmiennoprzecinowym (dla obliczeń)\n",
    "    image = tf.cast(image, tf.float32)\n",
    "    shape = tf.shape(image)\n",
    "    \n",
    "    # współczynniki skalowania\n",
    "    factor_x = tf.cast(shape[1], tf.float32)\n",
    "    factor_y = tf.cast(shape[0], tf.float32)\n",
    "    \n",
    "    # zmiana do odpowiednich wymiarów\n",
    "    image_resize = tf.image.resize(image, (224,224))\n",
    "    \n",
    "    # Normalizacja wartości pikseli obrazu\n",
    "    image = image_resize / 127.5\n",
    "    image_norm = image - 1.0   # wartości między -1 a 1\n",
    "    \n",
    "    # normalizacja współrzędnych bounding boxa\n",
    "    bbox_norm = [\n",
    "        bbox[0] / factor_x,\n",
    "        bbox[1] / factor_y,\n",
    "        bbox[2] / factor_x,\n",
    "        bbox[3] / factor_y\n",
    "    ]\n",
    "    \n",
    "    return image_norm, bbox_norm\n",
    "    \n",
    "def prepare_image_and_bbox_to_train_with_original_image(image, bbox):\n",
    "    \n",
    "    original_image = image\n",
    "    prep_image, bbox_list = prepare_image_and_bbox_to_train(image, bbox)\n",
    "    \n",
    "    return original_image, prep_image, bbox_list"
   ],
   "id": "764fa25aba9ea582",
   "outputs": [],
   "execution_count": 140
  },
  {
   "metadata": {
    "ExecuteTime": {
     "end_time": "2024-09-20T18:41:24.403955Z",
     "start_time": "2024-09-20T18:41:24.400457Z"
    }
   },
   "cell_type": "code",
   "source": [
    "# def read_image_and_bbox(data):\n",
    "#     \"\"\"\n",
    "#     Umożliwienie pracy z orygialnymi wielkościami obrazów\n",
    "#     i bounding boxami\n",
    "#     \"\"\"\n",
    "#     image = data['image']\n",
    "#     bbox = data['bbox']\n",
    "#     shape = tf.shape(image)\n",
    "#     \n",
    "#     factor_x = tf.python.keras.backend.cast(shape[1], tf.float32)\n",
    "#     factor_y = tf.python.keras.backend.cast(shape[0], tf.float32)\n",
    "#     \n",
    "#     bbox_list = [\n",
    "#         bbox[1] * factor_x,\n",
    "#         bbox[0] * factor_y,\n",
    "#         bbox[3] * factor_x,\n",
    "#         bbox[2] * factor_y\n",
    "#     ]\n",
    "#     \n",
    "#     return image, bbox_list \n",
    "def read_image_and_bbox(data, bbox):\n",
    "    \"\"\"\n",
    "    Umożliwienie pracy z orygialnymi wielkościami obrazów\n",
    "    i bounding boxami\n",
    "    \"\"\"\n",
    "    # image = data['image']\n",
    "    #bbox = bbox[0]\n",
    "    shape = tf.shape(data)\n",
    "    print(f\"llllllllllLL {shape[1]}\")\n",
    "    print(f\"shape of data in read_image_and_bbox: {shape}\")\n",
    "\n",
    "    factor_x = tf.cast(shape[0], tf.float32)\n",
    "    factor_y = tf.cast(shape[1], tf.float32)\n",
    "    print(f\"factor_x: {factor_x}\")\n",
    "    print(f\"factor_y: {factor_y}\")\n",
    "    bbox_list = [\n",
    "        bbox[0] * factor_x,\n",
    "        bbox[1] * factor_y,\n",
    "        bbox[2] * factor_x,\n",
    "        bbox[3] * factor_y\n",
    "    ]\n",
    "\n",
    "    return data, bbox_list "
   ],
   "id": "19dadeec843f94db",
   "outputs": [],
   "execution_count": 117
  },
  {
   "metadata": {
    "ExecuteTime": {
     "end_time": "2024-09-20T18:48:58.665450Z",
     "start_time": "2024-09-20T18:48:58.660646Z"
    }
   },
   "cell_type": "code",
   "source": [
    "# Konwersja do typu Numpy i odpowiedniej wielkości batchy\n",
    "def convert_dataset_to_numpy_utility(dataset, batch_size=0, N=0):\n",
    "    \"\"\"\n",
    "    Zmienia tf.data.Dataset do formatu tablic numpy.\n",
    "    służy do uzyskania danych w innej formie, takiej która jest dobra do \n",
    "    wizualizacji, analizy lub przetwarzania za pomocą innych bibliotek\n",
    "    \n",
    "    :param dataset: tf.data.Dataset (zawierający obrazy i bounding boxy)\n",
    "    :param batch_size: podzielenie danych na odpowiednie rozmiary\n",
    "    :param N: pobranie pierwszych N elementów z Datasetu\n",
    "    \"\"\"\n",
    "    get_dataset = dataset.shuffle(1024)\n",
    "    \n",
    "    # dataset = dataset.unbatch()\n",
    "    if batch_size > 0:\n",
    "        dataset = get_dataset.batch(batch_size)     #przetwarzanie danych w batchach na potrzeby treningu\n",
    "    \n",
    "    if N > 0:\n",
    "        dataset = dataset.take(N)   # ograniczenie danych tylko do małego podzbioru dla celów wizualizacji\n",
    "        \n",
    "    if tf.executing_eagerly():\n",
    "        ds_images, ds_bboxes = [], []\n",
    "        \n",
    "        for image, bbox in dataset:\n",
    "            ds_images.append(image.numpy())\n",
    "            ds_bboxes.append(bbox.numpy())\n",
    "    \n",
    "    print(f\"ds_images: {tf.shape(np.array(ds_images))}\")\n",
    "    \n",
    "    return (np.array(ds_images, dtype=np.float32), np.array(ds_bboxes, dtype=np.float32))\n",
    "\n",
    "def convert_dataset_to_numpy_with_original_bboxes_utility(dataset, batch_size=0, N=0):\n",
    "    \"\"\"\n",
    "    Przygotowanie danych ze zbioru danych o wybranej wielkości batcha, do formatu numpy\n",
    "    :param dataset: tf.data.Dataset \n",
    "    :param batch_size: ile zdjęć chcemy wziąść\n",
    "    :param N: jeśli chcemy mały zbiór do wizualizacji\n",
    "    :return: dtype='object' pozwala na przechowywanie elemntów o różnych kształtach i rozmiarach\n",
    "    \"\"\"\n",
    "    # metoda .map() do zastosowania funkcji prepare_image... na każdym elemencie dataset\n",
    "    normalized_dataset = dataset.map(prepare_image_and_bbox_to_train_with_original_image)\n",
    "\n",
    "    if batch_size > 0:\n",
    "        normalized_dataset = normalized_dataset.batch(batch_size)\n",
    "    \n",
    "    if N > 0:\n",
    "        normalized_dataset = normalized_dataset.take(N)\n",
    "    \n",
    "    if tf.executing_eagerly():\n",
    "        original_images, ds_images, ds_bboxes = [], [], []\n",
    "        \n",
    "        for original, image, bbox in normalized_dataset:\n",
    "            original_images.append(original)\n",
    "            ds_images.append(image.numpy())\n",
    "            ds_bboxes.append(bbox.numpy())\n",
    "    \n",
    "    return (np.array(original_images, dtype=np.float32), np.array(ds_images, dtype=np.float32), np.array(ds_bboxes, dtype=np.float32))\n",
    "    "
   ],
   "id": "84ea1abf88bf8c76",
   "outputs": [],
   "execution_count": 137
  },
  {
   "metadata": {},
   "cell_type": "markdown",
   "source": "# Ręczne załadowanie zbioru danych: zdjęć, bboxów",
   "id": "c64165c80cb9adbf"
  },
  {
   "metadata": {
    "ExecuteTime": {
     "end_time": "2024-09-20T17:29:57.751571Z",
     "start_time": "2024-09-20T17:29:57.733633Z"
    }
   },
   "cell_type": "code",
   "source": [
    "dataset_dir = '../data/CUB_200_2011/CUB_200_2011'\n",
    "dataset_images_dir = '../data/CUB_200_2011/CUB_200_2011/images'\n",
    "\n",
    "image_files = pd.read_csv(os.path.join(dataset_dir, 'images.txt'), sep=' ', header=None, names=['image_id', 'image_path'])\n",
    "label_files = pd.read_csv(os.path.join(dataset_dir, 'image_class_labels.txt'), sep=' ', header=None, names=['image_id', 'class_id'])\n",
    "bbox_files = pd.read_csv(os.path.join(dataset_dir, 'bounding_boxes.txt'), sep=' ', header=None, names=['image_id', 'xmin', 'ymin', 'xmax', 'ymax'])\n",
    "train_test_files = pd.read_csv(os.path.join(dataset_dir, 'train_test_split.txt'), sep=' ', header=None, names=['image_id', 'train_test'])\n",
    "\n",
    "dataset_metadata = pd.merge(image_files, label_files, on='image_id')\n",
    "dataset_metadata = pd.merge(dataset_metadata, bbox_files, on='image_id')\n",
    "dataset_metadata = pd.merge(dataset_metadata, train_test_files, on='image_id')\n"
   ],
   "id": "83c79a909fd8a2d8",
   "outputs": [],
   "execution_count": 44
  },
  {
   "metadata": {
    "ExecuteTime": {
     "end_time": "2024-09-20T17:29:57.983147Z",
     "start_time": "2024-09-20T17:29:57.974998Z"
    }
   },
   "cell_type": "code",
   "source": "dataset_metadata",
   "id": "e1041e012845361e",
   "outputs": [
    {
     "data": {
      "text/plain": [
       "       image_id                                         image_path  class_id  \\\n",
       "0             1  001.Black_footed_Albatross/Black_Footed_Albatr...         1   \n",
       "1             2  001.Black_footed_Albatross/Black_Footed_Albatr...         1   \n",
       "2             3  001.Black_footed_Albatross/Black_Footed_Albatr...         1   \n",
       "3             4  001.Black_footed_Albatross/Black_Footed_Albatr...         1   \n",
       "4             5  001.Black_footed_Albatross/Black_Footed_Albatr...         1   \n",
       "...         ...                                                ...       ...   \n",
       "11783     11784  200.Common_Yellowthroat/Common_Yellowthroat_00...       200   \n",
       "11784     11785  200.Common_Yellowthroat/Common_Yellowthroat_00...       200   \n",
       "11785     11786  200.Common_Yellowthroat/Common_Yellowthroat_00...       200   \n",
       "11786     11787  200.Common_Yellowthroat/Common_Yellowthroat_00...       200   \n",
       "11787     11788  200.Common_Yellowthroat/Common_Yellowthroat_00...       200   \n",
       "\n",
       "        xmin   ymin   xmax   ymax  train_test  \n",
       "0       60.0   27.0  325.0  304.0           0  \n",
       "1      139.0   30.0  153.0  264.0           1  \n",
       "2       14.0  112.0  388.0  186.0           0  \n",
       "3      112.0   90.0  255.0  242.0           1  \n",
       "4       70.0   50.0  134.0  303.0           1  \n",
       "...      ...    ...    ...    ...         ...  \n",
       "11783   89.0   95.0  354.0  250.0           1  \n",
       "11784  157.0   62.0  184.0  219.0           0  \n",
       "11785  190.0  102.0  198.0  202.0           0  \n",
       "11786    3.0   20.0  408.0  307.0           1  \n",
       "11787   20.0  113.0  177.0  263.0           0  \n",
       "\n",
       "[11788 rows x 8 columns]"
      ],
      "text/html": [
       "<div>\n",
       "<style scoped>\n",
       "    .dataframe tbody tr th:only-of-type {\n",
       "        vertical-align: middle;\n",
       "    }\n",
       "\n",
       "    .dataframe tbody tr th {\n",
       "        vertical-align: top;\n",
       "    }\n",
       "\n",
       "    .dataframe thead th {\n",
       "        text-align: right;\n",
       "    }\n",
       "</style>\n",
       "<table border=\"1\" class=\"dataframe\">\n",
       "  <thead>\n",
       "    <tr style=\"text-align: right;\">\n",
       "      <th></th>\n",
       "      <th>image_id</th>\n",
       "      <th>image_path</th>\n",
       "      <th>class_id</th>\n",
       "      <th>xmin</th>\n",
       "      <th>ymin</th>\n",
       "      <th>xmax</th>\n",
       "      <th>ymax</th>\n",
       "      <th>train_test</th>\n",
       "    </tr>\n",
       "  </thead>\n",
       "  <tbody>\n",
       "    <tr>\n",
       "      <th>0</th>\n",
       "      <td>1</td>\n",
       "      <td>001.Black_footed_Albatross/Black_Footed_Albatr...</td>\n",
       "      <td>1</td>\n",
       "      <td>60.0</td>\n",
       "      <td>27.0</td>\n",
       "      <td>325.0</td>\n",
       "      <td>304.0</td>\n",
       "      <td>0</td>\n",
       "    </tr>\n",
       "    <tr>\n",
       "      <th>1</th>\n",
       "      <td>2</td>\n",
       "      <td>001.Black_footed_Albatross/Black_Footed_Albatr...</td>\n",
       "      <td>1</td>\n",
       "      <td>139.0</td>\n",
       "      <td>30.0</td>\n",
       "      <td>153.0</td>\n",
       "      <td>264.0</td>\n",
       "      <td>1</td>\n",
       "    </tr>\n",
       "    <tr>\n",
       "      <th>2</th>\n",
       "      <td>3</td>\n",
       "      <td>001.Black_footed_Albatross/Black_Footed_Albatr...</td>\n",
       "      <td>1</td>\n",
       "      <td>14.0</td>\n",
       "      <td>112.0</td>\n",
       "      <td>388.0</td>\n",
       "      <td>186.0</td>\n",
       "      <td>0</td>\n",
       "    </tr>\n",
       "    <tr>\n",
       "      <th>3</th>\n",
       "      <td>4</td>\n",
       "      <td>001.Black_footed_Albatross/Black_Footed_Albatr...</td>\n",
       "      <td>1</td>\n",
       "      <td>112.0</td>\n",
       "      <td>90.0</td>\n",
       "      <td>255.0</td>\n",
       "      <td>242.0</td>\n",
       "      <td>1</td>\n",
       "    </tr>\n",
       "    <tr>\n",
       "      <th>4</th>\n",
       "      <td>5</td>\n",
       "      <td>001.Black_footed_Albatross/Black_Footed_Albatr...</td>\n",
       "      <td>1</td>\n",
       "      <td>70.0</td>\n",
       "      <td>50.0</td>\n",
       "      <td>134.0</td>\n",
       "      <td>303.0</td>\n",
       "      <td>1</td>\n",
       "    </tr>\n",
       "    <tr>\n",
       "      <th>...</th>\n",
       "      <td>...</td>\n",
       "      <td>...</td>\n",
       "      <td>...</td>\n",
       "      <td>...</td>\n",
       "      <td>...</td>\n",
       "      <td>...</td>\n",
       "      <td>...</td>\n",
       "      <td>...</td>\n",
       "    </tr>\n",
       "    <tr>\n",
       "      <th>11783</th>\n",
       "      <td>11784</td>\n",
       "      <td>200.Common_Yellowthroat/Common_Yellowthroat_00...</td>\n",
       "      <td>200</td>\n",
       "      <td>89.0</td>\n",
       "      <td>95.0</td>\n",
       "      <td>354.0</td>\n",
       "      <td>250.0</td>\n",
       "      <td>1</td>\n",
       "    </tr>\n",
       "    <tr>\n",
       "      <th>11784</th>\n",
       "      <td>11785</td>\n",
       "      <td>200.Common_Yellowthroat/Common_Yellowthroat_00...</td>\n",
       "      <td>200</td>\n",
       "      <td>157.0</td>\n",
       "      <td>62.0</td>\n",
       "      <td>184.0</td>\n",
       "      <td>219.0</td>\n",
       "      <td>0</td>\n",
       "    </tr>\n",
       "    <tr>\n",
       "      <th>11785</th>\n",
       "      <td>11786</td>\n",
       "      <td>200.Common_Yellowthroat/Common_Yellowthroat_00...</td>\n",
       "      <td>200</td>\n",
       "      <td>190.0</td>\n",
       "      <td>102.0</td>\n",
       "      <td>198.0</td>\n",
       "      <td>202.0</td>\n",
       "      <td>0</td>\n",
       "    </tr>\n",
       "    <tr>\n",
       "      <th>11786</th>\n",
       "      <td>11787</td>\n",
       "      <td>200.Common_Yellowthroat/Common_Yellowthroat_00...</td>\n",
       "      <td>200</td>\n",
       "      <td>3.0</td>\n",
       "      <td>20.0</td>\n",
       "      <td>408.0</td>\n",
       "      <td>307.0</td>\n",
       "      <td>1</td>\n",
       "    </tr>\n",
       "    <tr>\n",
       "      <th>11787</th>\n",
       "      <td>11788</td>\n",
       "      <td>200.Common_Yellowthroat/Common_Yellowthroat_00...</td>\n",
       "      <td>200</td>\n",
       "      <td>20.0</td>\n",
       "      <td>113.0</td>\n",
       "      <td>177.0</td>\n",
       "      <td>263.0</td>\n",
       "      <td>0</td>\n",
       "    </tr>\n",
       "  </tbody>\n",
       "</table>\n",
       "<p>11788 rows × 8 columns</p>\n",
       "</div>"
      ]
     },
     "execution_count": 45,
     "metadata": {},
     "output_type": "execute_result"
    }
   ],
   "execution_count": 45
  },
  {
   "metadata": {
    "ExecuteTime": {
     "end_time": "2024-09-20T17:29:58.657202Z",
     "start_time": "2024-09-20T17:29:58.647508Z"
    }
   },
   "cell_type": "code",
   "source": [
    "# paths_list = dataset_metadata['image_path'].apply(lambda x: os.path.join(dataset_images_dir, x)).tolist()\n",
    "# paths_list\n",
    "bboxes_list = dataset_metadata[['xmin', 'ymin', 'xmax', 'ymax']].values.tolist()\n",
    "np.array(bboxes_list).shape"
   ],
   "id": "85ae805f626661a6",
   "outputs": [
    {
     "data": {
      "text/plain": [
       "(11788, 4)"
      ]
     },
     "execution_count": 46,
     "metadata": {},
     "output_type": "execute_result"
    }
   ],
   "execution_count": 46
  },
  {
   "metadata": {
    "ExecuteTime": {
     "end_time": "2024-09-20T18:42:19.570978Z",
     "start_time": "2024-09-20T18:42:19.567285Z"
    }
   },
   "cell_type": "code",
   "source": [
    "def load_data(image_path, bbox, label):\n",
    "    image = tf.io.read_file(image_path)\n",
    "    image = tf.image.decode_jpeg(image, channels=3)\n",
    "    original_shape = tf.shape(image)[:2]\n",
    "    image_height = tf.cast(original_shape[0], tf.float32)\n",
    "    image_width = tf.cast(original_shape[1], tf.float32)\n",
    "    \n",
    "    bbox = tf.cast(bbox, tf.float32)\n",
    "    x_min = bbox[0] / image_width\n",
    "    y_min = bbox[1] / image_height\n",
    "    x_max = bbox[2] / image_width\n",
    "    y_max = bbox[3] / image_height\n",
    "    \n",
    "    print(f\"x_min: {x_min}\")\n",
    "    print(f\"y_min: {y_min}\")\n",
    "    print(f\"x_max: {x_max}\")\n",
    "    print(f\"y_max: {y_max}\")\n",
    "    \n",
    "    normalized_bbox = tf.stack([y_min, x_min, y_max, x_max])\n",
    "    \n",
    "    image = tf.image.convert_image_dtype(image, tf.float32)\n",
    "    #image = tf.image.resize(image, [224, 224])\n",
    "    image = tf.image.resize_with_pad(image, 224, 224)\n",
    "    \n",
    "    return image, normalized_bbox"
   ],
   "id": "54b5034e190191b4",
   "outputs": [],
   "execution_count": 121
  },
  {
   "metadata": {
    "ExecuteTime": {
     "end_time": "2024-09-20T18:42:19.885166Z",
     "start_time": "2024-09-20T18:42:19.882007Z"
    }
   },
   "cell_type": "code",
   "source": [
    "# funkcja do konwersji danych na tf.data.Dataset\n",
    "\n",
    "def preprocess_downlanded_dataset_to_good_form(metadata):\n",
    "    paths_list = metadata['image_path'].apply(lambda x: os.path.join(dataset_images_dir, x)).tolist()\n",
    "    id_class = metadata['class_id'].tolist()\n",
    "    bboxes_list = metadata[['xmin', 'ymin', 'xmax', 'ymax']].values.tolist()\n",
    "    \n",
    "    \n",
    "    dataset = tf.data.Dataset.from_tensor_slices((paths_list, bboxes_list, id_class))\n",
    "    dataset = dataset.map(lambda path, bbox, label: load_data(path, bbox, label))\n",
    "    return dataset"
   ],
   "id": "f8fa609572d079c0",
   "outputs": [],
   "execution_count": 122
  },
  {
   "metadata": {
    "ExecuteTime": {
     "end_time": "2024-09-20T18:42:20.159852Z",
     "start_time": "2024-09-20T18:42:20.155483Z"
    }
   },
   "cell_type": "code",
   "source": [
    "train_data = dataset_metadata[dataset_metadata['train_test'] == 1]\n",
    "test_data = dataset_metadata[dataset_metadata['train_test'] == 0]"
   ],
   "id": "f63de9a677c85791",
   "outputs": [],
   "execution_count": 123
  },
  {
   "metadata": {
    "ExecuteTime": {
     "end_time": "2024-09-20T18:42:20.642639Z",
     "start_time": "2024-09-20T18:42:20.486364Z"
    }
   },
   "cell_type": "code",
   "source": [
    "train_dataset = preprocess_downlanded_dataset_to_good_form(train_data)\n",
    "train_dataset = train_dataset.shuffle(1024).batch(4).prefetch(buffer_size=tf.data.experimental.AUTOTUNE)"
   ],
   "id": "fe1d94b0be2c1b39",
   "outputs": [
    {
     "name": "stdout",
     "output_type": "stream",
     "text": [
      "x_min: Tensor(\"truediv:0\", shape=(), dtype=float32)\n",
      "y_min: Tensor(\"truediv_1:0\", shape=(), dtype=float32)\n",
      "x_max: Tensor(\"truediv_2:0\", shape=(), dtype=float32)\n",
      "y_max: Tensor(\"truediv_3:0\", shape=(), dtype=float32)\n"
     ]
    }
   ],
   "execution_count": 124
  },
  {
   "metadata": {
    "ExecuteTime": {
     "end_time": "2024-09-20T18:42:20.960179Z",
     "start_time": "2024-09-20T18:42:20.860617Z"
    }
   },
   "cell_type": "code",
   "source": [
    "test_dataset = preprocess_downlanded_dataset_to_good_form(test_data)\n",
    "test_dataset = test_dataset.shuffle(1024).batch(4).prefetch(buffer_size=tf.data.experimental.AUTOTUNE)"
   ],
   "id": "fa7bd0e74ddc42c9",
   "outputs": [
    {
     "name": "stdout",
     "output_type": "stream",
     "text": [
      "x_min: Tensor(\"truediv:0\", shape=(), dtype=float32)\n",
      "y_min: Tensor(\"truediv_1:0\", shape=(), dtype=float32)\n",
      "x_max: Tensor(\"truediv_2:0\", shape=(), dtype=float32)\n",
      "y_max: Tensor(\"truediv_3:0\", shape=(), dtype=float32)\n"
     ]
    }
   ],
   "execution_count": 125
  },
  {
   "metadata": {
    "ExecuteTime": {
     "end_time": "2024-09-20T18:42:21.547274Z",
     "start_time": "2024-09-20T18:42:21.448047Z"
    }
   },
   "cell_type": "code",
   "source": [
    "test_dataset_prediction = preprocess_downlanded_dataset_to_good_form(test_data)\n",
    "test_dataset_prediction = test_dataset_prediction.shuffle(1024)\n"
   ],
   "id": "7a78691ba6176549",
   "outputs": [
    {
     "name": "stdout",
     "output_type": "stream",
     "text": [
      "x_min: Tensor(\"truediv:0\", shape=(), dtype=float32)\n",
      "y_min: Tensor(\"truediv_1:0\", shape=(), dtype=float32)\n",
      "x_max: Tensor(\"truediv_2:0\", shape=(), dtype=float32)\n",
      "y_max: Tensor(\"truediv_3:0\", shape=(), dtype=float32)\n"
     ]
    }
   ],
   "execution_count": 126
  },
  {
   "metadata": {
    "ExecuteTime": {
     "end_time": "2024-09-20T17:30:03.190951Z",
     "start_time": "2024-09-20T17:30:03.189342Z"
    }
   },
   "cell_type": "code",
   "source": "",
   "id": "f79489ad08fbc144",
   "outputs": [],
   "execution_count": 52
  },
  {
   "metadata": {},
   "cell_type": "markdown",
   "source": "# Wizualizacja datasetu",
   "id": "421211416a1b7353"
  },
  {
   "metadata": {
    "ExecuteTime": {
     "end_time": "2024-09-20T18:42:27.683026Z",
     "start_time": "2024-09-20T18:42:27.664394Z"
    }
   },
   "cell_type": "code",
   "source": [
    "def get_visualization_dataset_train(dataset):\n",
    "    visualization_dataset = dataset.map(read_image_and_bbox)\n",
    "    return visualization_dataset\n",
    "\n",
    "visualization_training_dataset = get_visualization_dataset_train(train_dataset)"
   ],
   "id": "d1937955375899c7",
   "outputs": [
    {
     "name": "stdout",
     "output_type": "stream",
     "text": [
      "llllllllllLL Tensor(\"strided_slice:0\", shape=(), dtype=int32)\n",
      "shape of data in read_image_and_bbox: Tensor(\"Shape:0\", shape=(4,), dtype=int32)\n",
      "factor_x: Tensor(\"Cast:0\", shape=(), dtype=float32)\n",
      "factor_y: Tensor(\"Cast_1:0\", shape=(), dtype=float32)\n"
     ]
    }
   ],
   "execution_count": 127
  },
  {
   "metadata": {
    "ExecuteTime": {
     "end_time": "2024-09-20T18:42:30.334298Z",
     "start_time": "2024-09-20T18:42:29.601352Z"
    }
   },
   "cell_type": "code",
   "source": [
    "(visualization_training_images, visualization_training_bboxes) = convert_dataset_to_numpy_utility(visualization_training_dataset, N=10)\n",
    "\n",
    "\n",
    "display_row_of_images_with_boxes_and_iou(np.array(visualization_training_images), np.array([]), visualization_training_bboxes, np.array([]), \"training images and their bboxes\")"
   ],
   "id": "829d6f3def4c8420",
   "outputs": [
    {
     "name": "stdout",
     "output_type": "stream",
     "text": [
      "ds_images: [ 10   4 224 224   3]\n",
      "length of images in display_row_of_images_with_boxes_and_iou: 10\n",
      "bboxes to plot: [[  0.2994012   0.672       3.6766467   2.28     ]\n",
      " [ 50.624      55.15916   158.144     141.26126  ]\n",
      " [  1.51        1.376       1.94        2.024    ]\n",
      " [ 27.752213   71.68      194.92625   150.97601  ]]\n",
      "(4, 224, 224, 3)\n",
      "(4, 4)\n",
      "boxes shape in draw_bounding_boxes_on_image: (4, 4)\n",
      "image shape in draw_bounding_boxes_on_image: (4, 224, 224, 3)\n"
     ]
    },
    {
     "ename": "IndexError",
     "evalue": "list index out of range",
     "output_type": "error",
     "traceback": [
      "\u001B[0;31m---------------------------------------------------------------------------\u001B[0m",
      "\u001B[0;31mIndexError\u001B[0m                                Traceback (most recent call last)",
      "Cell \u001B[0;32mIn[128], line 4\u001B[0m\n\u001B[1;32m      1\u001B[0m (visualization_training_images, visualization_training_bboxes) \u001B[38;5;241m=\u001B[39m convert_dataset_to_numpy_utility(visualization_training_dataset, N\u001B[38;5;241m=\u001B[39m\u001B[38;5;241m10\u001B[39m)\n\u001B[0;32m----> 4\u001B[0m \u001B[43mdisplay_row_of_images_with_boxes_and_iou\u001B[49m\u001B[43m(\u001B[49m\u001B[43mnp\u001B[49m\u001B[38;5;241;43m.\u001B[39;49m\u001B[43marray\u001B[49m\u001B[43m(\u001B[49m\u001B[43mvisualization_training_images\u001B[49m\u001B[43m)\u001B[49m\u001B[43m,\u001B[49m\u001B[43m \u001B[49m\u001B[43mnp\u001B[49m\u001B[38;5;241;43m.\u001B[39;49m\u001B[43marray\u001B[49m\u001B[43m(\u001B[49m\u001B[43m[\u001B[49m\u001B[43m]\u001B[49m\u001B[43m)\u001B[49m\u001B[43m,\u001B[49m\u001B[43m \u001B[49m\u001B[43mvisualization_training_bboxes\u001B[49m\u001B[43m,\u001B[49m\u001B[43m \u001B[49m\u001B[43mnp\u001B[49m\u001B[38;5;241;43m.\u001B[39;49m\u001B[43marray\u001B[49m\u001B[43m(\u001B[49m\u001B[43m[\u001B[49m\u001B[43m]\u001B[49m\u001B[43m)\u001B[49m\u001B[43m,\u001B[49m\u001B[43m \u001B[49m\u001B[38;5;124;43m\"\u001B[39;49m\u001B[38;5;124;43mtraining images and their bboxes\u001B[39;49m\u001B[38;5;124;43m\"\u001B[39;49m\u001B[43m)\u001B[49m\n",
      "Cell \u001B[0;32mIn[40], line 78\u001B[0m, in \u001B[0;36mdisplay_row_of_images_with_boxes_and_iou\u001B[0;34m(images, pred_bboxes, bboxes, iou, title, bboxes_normalized)\u001B[0m\n\u001B[1;32m     75\u001B[0m     bboxes_to_plot\u001B[38;5;241m.\u001B[39mappend(bbox)\n\u001B[1;32m     77\u001B[0m \u001B[38;5;28mprint\u001B[39m(\u001B[38;5;124mf\u001B[39m\u001B[38;5;124m\"\u001B[39m\u001B[38;5;124mbboxes to plot: \u001B[39m\u001B[38;5;132;01m{\u001B[39;00mnp\u001B[38;5;241m.\u001B[39msqueeze(np\u001B[38;5;241m.\u001B[39masarray(bboxes_to_plot))\u001B[38;5;132;01m}\u001B[39;00m\u001B[38;5;124m\"\u001B[39m)\n\u001B[0;32m---> 78\u001B[0m img_to_draw \u001B[38;5;241m=\u001B[39m \u001B[43mdraw_bounding_boxes_on_image_array\u001B[49m\u001B[43m(\u001B[49m\u001B[43mimage\u001B[49m\u001B[38;5;241;43m=\u001B[39;49m\u001B[43mimages\u001B[49m\u001B[43m[\u001B[49m\u001B[43mi\u001B[49m\u001B[43m]\u001B[49m\u001B[43m,\u001B[49m\u001B[43m \u001B[49m\u001B[43mboxes\u001B[49m\u001B[38;5;241;43m=\u001B[39;49m\u001B[43mnp\u001B[49m\u001B[38;5;241;43m.\u001B[39;49m\u001B[43msqueeze\u001B[49m\u001B[43m(\u001B[49m\u001B[43mnp\u001B[49m\u001B[38;5;241;43m.\u001B[39;49m\u001B[43masarray\u001B[49m\u001B[43m(\u001B[49m\u001B[43mbboxes_to_plot\u001B[49m\u001B[43m)\u001B[49m\u001B[43m)\u001B[49m\u001B[43m,\u001B[49m\u001B[43m \u001B[49m\u001B[43mcolor\u001B[49m\u001B[38;5;241;43m=\u001B[39;49m\u001B[43m[\u001B[49m\u001B[43m(\u001B[49m\u001B[38;5;241;43m255\u001B[39;49m\u001B[43m,\u001B[49m\u001B[38;5;241;43m0\u001B[39;49m\u001B[43m,\u001B[49m\u001B[38;5;241;43m0\u001B[39;49m\u001B[43m)\u001B[49m\u001B[43m,\u001B[49m\u001B[43m \u001B[49m\u001B[43m(\u001B[49m\u001B[38;5;241;43m0\u001B[39;49m\u001B[43m,\u001B[49m\u001B[43m \u001B[49m\u001B[38;5;241;43m255\u001B[39;49m\u001B[43m,\u001B[49m\u001B[43m \u001B[49m\u001B[38;5;241;43m0\u001B[39;49m\u001B[43m)\u001B[49m\u001B[43m]\u001B[49m\u001B[43m)\u001B[49m\n\u001B[1;32m     79\u001B[0m plt\u001B[38;5;241m.\u001B[39mxticks([])\n\u001B[1;32m     80\u001B[0m plt\u001B[38;5;241m.\u001B[39myticks([])\n",
      "Cell \u001B[0;32mIn[38], line 129\u001B[0m, in \u001B[0;36mdraw_bounding_boxes_on_image_array\u001B[0;34m(image, boxes, color, thickness)\u001B[0m\n\u001B[1;32m    125\u001B[0m \u001B[38;5;28mprint\u001B[39m(image\u001B[38;5;241m.\u001B[39mshape)\n\u001B[1;32m    126\u001B[0m \u001B[38;5;28mprint\u001B[39m(boxes\u001B[38;5;241m.\u001B[39mshape)\n\u001B[0;32m--> 129\u001B[0m \u001B[43mdraw_bounding_boxes_on_image\u001B[49m\u001B[43m(\u001B[49m\u001B[43mimage\u001B[49m\u001B[43m,\u001B[49m\u001B[43m \u001B[49m\u001B[43mboxes\u001B[49m\u001B[43m,\u001B[49m\u001B[43m \u001B[49m\u001B[43mcolor\u001B[49m\u001B[43m,\u001B[49m\u001B[43m \u001B[49m\u001B[43mthickness\u001B[49m\u001B[43m)\u001B[49m\n\u001B[1;32m    131\u001B[0m \u001B[38;5;28;01mreturn\u001B[39;00m image\n",
      "Cell \u001B[0;32mIn[38], line 107\u001B[0m, in \u001B[0;36mdraw_bounding_boxes_on_image\u001B[0;34m(image, boxes, color, thickness)\u001B[0m\n\u001B[1;32m    104\u001B[0m     \u001B[38;5;28;01mraise\u001B[39;00m \u001B[38;5;167;01mValueError\u001B[39;00m(\u001B[38;5;124m'\u001B[39m\u001B[38;5;124mInput must be of size [N, 4]\u001B[39m\u001B[38;5;124m'\u001B[39m)\n\u001B[1;32m    105\u001B[0m \u001B[38;5;28;01mfor\u001B[39;00m i \u001B[38;5;129;01min\u001B[39;00m \u001B[38;5;28mrange\u001B[39m(boxes_shape[\u001B[38;5;241m0\u001B[39m]):\n\u001B[1;32m    106\u001B[0m     draw_bounding_box_on_image(image, boxes[i, \u001B[38;5;241m0\u001B[39m], boxes[i, \u001B[38;5;241m1\u001B[39m], boxes[i, \u001B[38;5;241m2\u001B[39m],\n\u001B[0;32m--> 107\u001B[0m                              boxes[i, \u001B[38;5;241m3\u001B[39m], \u001B[43mcolor\u001B[49m\u001B[43m[\u001B[49m\u001B[43mi\u001B[49m\u001B[43m]\u001B[49m, thickness)\n",
      "\u001B[0;31mIndexError\u001B[0m: list index out of range"
     ]
    },
    {
     "data": {
      "text/plain": [
       "<Figure size 2000x400 with 2 Axes>"
      ],
      "image/png": "[encoded data removed]"
     },
     "metadata": {},
     "output_type": "display_data"
    }
   ],
   "execution_count": 128
  },
  {
   "metadata": {
    "ExecuteTime": {
     "end_time": "2024-09-20T18:42:32.441103Z",
     "start_time": "2024-09-20T18:42:32.437837Z"
    }
   },
   "cell_type": "code",
   "source": "visualization_training_dataset",
   "id": "6f0359890bdb4880",
   "outputs": [
    {
     "data": {
      "text/plain": [
       "<_MapDataset element_spec=(TensorSpec(shape=(None, 224, 224, 3), dtype=tf.float32, name=None), TensorSpec(shape=(4, 4), dtype=tf.float32, name=None))>"
      ]
     },
     "execution_count": 129,
     "metadata": {},
     "output_type": "execute_result"
    }
   ],
   "execution_count": 129
  },
  {
   "metadata": {
    "ExecuteTime": {
     "end_time": "2024-09-20T18:42:33.364846Z",
     "start_time": "2024-09-20T18:42:32.617466Z"
    }
   },
   "cell_type": "code",
   "source": [
    "def get_visualization_dataset_test(dataset):\n",
    "    visualization_dataset = dataset.map(read_image_and_bbox)\n",
    "    return visualization_dataset\n",
    "\n",
    "visualization_test_dataset = get_visualization_dataset_test(test_dataset)\n",
    "\n",
    "(vis_images_test , vis_bboxes_test) = convert_dataset_to_numpy_utility(visualization_test_dataset, N=10)\n",
    "display_row_of_images_with_boxes_and_iou(np.array(vis_images_test), np.array([]), np.array(vis_bboxes_test), np.array([]), \"test images and their bboxes\")"
   ],
   "id": "1df8ca147f2bc290",
   "outputs": [
    {
     "name": "stdout",
     "output_type": "stream",
     "text": [
      "llllllllllLL Tensor(\"strided_slice:0\", shape=(), dtype=int32)\n",
      "shape of data in read_image_and_bbox: Tensor(\"Shape:0\", shape=(4,), dtype=int32)\n",
      "factor_x: Tensor(\"Cast:0\", shape=(), dtype=float32)\n",
      "factor_y: Tensor(\"Cast_1:0\", shape=(), dtype=float32)\n",
      "ds_images: [ 10   4 224 224   3]\n",
      "length of images in display_row_of_images_with_boxes_and_iou: 10\n",
      "bboxes to plot: [[  0.408       0.4896074   3.264       3.1593533]\n",
      " [ 14.092716   86.912     195.07285    45.696    ]\n",
      " [  0.6246246   0.82        3.1231232   2.6      ]\n",
      " [ 60.046623   44.352     148.28905   141.56801  ]]\n",
      "(4, 224, 224, 3)\n",
      "(4, 4)\n",
      "boxes shape in draw_bounding_boxes_on_image: (4, 4)\n",
      "image shape in draw_bounding_boxes_on_image: (4, 224, 224, 3)\n"
     ]
    },
    {
     "ename": "IndexError",
     "evalue": "list index out of range",
     "output_type": "error",
     "traceback": [
      "\u001B[0;31m---------------------------------------------------------------------------\u001B[0m",
      "\u001B[0;31mIndexError\u001B[0m                                Traceback (most recent call last)",
      "Cell \u001B[0;32mIn[130], line 8\u001B[0m\n\u001B[1;32m      5\u001B[0m visualization_test_dataset \u001B[38;5;241m=\u001B[39m get_visualization_dataset_test(test_dataset)\n\u001B[1;32m      7\u001B[0m (vis_images_test , vis_bboxes_test) \u001B[38;5;241m=\u001B[39m convert_dataset_to_numpy_utility(visualization_test_dataset, N\u001B[38;5;241m=\u001B[39m\u001B[38;5;241m10\u001B[39m)\n\u001B[0;32m----> 8\u001B[0m \u001B[43mdisplay_row_of_images_with_boxes_and_iou\u001B[49m\u001B[43m(\u001B[49m\u001B[43mnp\u001B[49m\u001B[38;5;241;43m.\u001B[39;49m\u001B[43marray\u001B[49m\u001B[43m(\u001B[49m\u001B[43mvis_images_test\u001B[49m\u001B[43m)\u001B[49m\u001B[43m,\u001B[49m\u001B[43m \u001B[49m\u001B[43mnp\u001B[49m\u001B[38;5;241;43m.\u001B[39;49m\u001B[43marray\u001B[49m\u001B[43m(\u001B[49m\u001B[43m[\u001B[49m\u001B[43m]\u001B[49m\u001B[43m)\u001B[49m\u001B[43m,\u001B[49m\u001B[43m \u001B[49m\u001B[43mnp\u001B[49m\u001B[38;5;241;43m.\u001B[39;49m\u001B[43marray\u001B[49m\u001B[43m(\u001B[49m\u001B[43mvis_bboxes_test\u001B[49m\u001B[43m)\u001B[49m\u001B[43m,\u001B[49m\u001B[43m \u001B[49m\u001B[43mnp\u001B[49m\u001B[38;5;241;43m.\u001B[39;49m\u001B[43marray\u001B[49m\u001B[43m(\u001B[49m\u001B[43m[\u001B[49m\u001B[43m]\u001B[49m\u001B[43m)\u001B[49m\u001B[43m,\u001B[49m\u001B[43m \u001B[49m\u001B[38;5;124;43m\"\u001B[39;49m\u001B[38;5;124;43mtest images and their bboxes\u001B[39;49m\u001B[38;5;124;43m\"\u001B[39;49m\u001B[43m)\u001B[49m\n",
      "Cell \u001B[0;32mIn[40], line 78\u001B[0m, in \u001B[0;36mdisplay_row_of_images_with_boxes_and_iou\u001B[0;34m(images, pred_bboxes, bboxes, iou, title, bboxes_normalized)\u001B[0m\n\u001B[1;32m     75\u001B[0m     bboxes_to_plot\u001B[38;5;241m.\u001B[39mappend(bbox)\n\u001B[1;32m     77\u001B[0m \u001B[38;5;28mprint\u001B[39m(\u001B[38;5;124mf\u001B[39m\u001B[38;5;124m\"\u001B[39m\u001B[38;5;124mbboxes to plot: \u001B[39m\u001B[38;5;132;01m{\u001B[39;00mnp\u001B[38;5;241m.\u001B[39msqueeze(np\u001B[38;5;241m.\u001B[39masarray(bboxes_to_plot))\u001B[38;5;132;01m}\u001B[39;00m\u001B[38;5;124m\"\u001B[39m)\n\u001B[0;32m---> 78\u001B[0m img_to_draw \u001B[38;5;241m=\u001B[39m \u001B[43mdraw_bounding_boxes_on_image_array\u001B[49m\u001B[43m(\u001B[49m\u001B[43mimage\u001B[49m\u001B[38;5;241;43m=\u001B[39;49m\u001B[43mimages\u001B[49m\u001B[43m[\u001B[49m\u001B[43mi\u001B[49m\u001B[43m]\u001B[49m\u001B[43m,\u001B[49m\u001B[43m \u001B[49m\u001B[43mboxes\u001B[49m\u001B[38;5;241;43m=\u001B[39;49m\u001B[43mnp\u001B[49m\u001B[38;5;241;43m.\u001B[39;49m\u001B[43msqueeze\u001B[49m\u001B[43m(\u001B[49m\u001B[43mnp\u001B[49m\u001B[38;5;241;43m.\u001B[39;49m\u001B[43masarray\u001B[49m\u001B[43m(\u001B[49m\u001B[43mbboxes_to_plot\u001B[49m\u001B[43m)\u001B[49m\u001B[43m)\u001B[49m\u001B[43m,\u001B[49m\u001B[43m \u001B[49m\u001B[43mcolor\u001B[49m\u001B[38;5;241;43m=\u001B[39;49m\u001B[43m[\u001B[49m\u001B[43m(\u001B[49m\u001B[38;5;241;43m255\u001B[39;49m\u001B[43m,\u001B[49m\u001B[38;5;241;43m0\u001B[39;49m\u001B[43m,\u001B[49m\u001B[38;5;241;43m0\u001B[39;49m\u001B[43m)\u001B[49m\u001B[43m,\u001B[49m\u001B[43m \u001B[49m\u001B[43m(\u001B[49m\u001B[38;5;241;43m0\u001B[39;49m\u001B[43m,\u001B[49m\u001B[43m \u001B[49m\u001B[38;5;241;43m255\u001B[39;49m\u001B[43m,\u001B[49m\u001B[43m \u001B[49m\u001B[38;5;241;43m0\u001B[39;49m\u001B[43m)\u001B[49m\u001B[43m]\u001B[49m\u001B[43m)\u001B[49m\n\u001B[1;32m     79\u001B[0m plt\u001B[38;5;241m.\u001B[39mxticks([])\n\u001B[1;32m     80\u001B[0m plt\u001B[38;5;241m.\u001B[39myticks([])\n",
      "Cell \u001B[0;32mIn[38], line 129\u001B[0m, in \u001B[0;36mdraw_bounding_boxes_on_image_array\u001B[0;34m(image, boxes, color, thickness)\u001B[0m\n\u001B[1;32m    125\u001B[0m \u001B[38;5;28mprint\u001B[39m(image\u001B[38;5;241m.\u001B[39mshape)\n\u001B[1;32m    126\u001B[0m \u001B[38;5;28mprint\u001B[39m(boxes\u001B[38;5;241m.\u001B[39mshape)\n\u001B[0;32m--> 129\u001B[0m \u001B[43mdraw_bounding_boxes_on_image\u001B[49m\u001B[43m(\u001B[49m\u001B[43mimage\u001B[49m\u001B[43m,\u001B[49m\u001B[43m \u001B[49m\u001B[43mboxes\u001B[49m\u001B[43m,\u001B[49m\u001B[43m \u001B[49m\u001B[43mcolor\u001B[49m\u001B[43m,\u001B[49m\u001B[43m \u001B[49m\u001B[43mthickness\u001B[49m\u001B[43m)\u001B[49m\n\u001B[1;32m    131\u001B[0m \u001B[38;5;28;01mreturn\u001B[39;00m image\n",
      "Cell \u001B[0;32mIn[38], line 107\u001B[0m, in \u001B[0;36mdraw_bounding_boxes_on_image\u001B[0;34m(image, boxes, color, thickness)\u001B[0m\n\u001B[1;32m    104\u001B[0m     \u001B[38;5;28;01mraise\u001B[39;00m \u001B[38;5;167;01mValueError\u001B[39;00m(\u001B[38;5;124m'\u001B[39m\u001B[38;5;124mInput must be of size [N, 4]\u001B[39m\u001B[38;5;124m'\u001B[39m)\n\u001B[1;32m    105\u001B[0m \u001B[38;5;28;01mfor\u001B[39;00m i \u001B[38;5;129;01min\u001B[39;00m \u001B[38;5;28mrange\u001B[39m(boxes_shape[\u001B[38;5;241m0\u001B[39m]):\n\u001B[1;32m    106\u001B[0m     draw_bounding_box_on_image(image, boxes[i, \u001B[38;5;241m0\u001B[39m], boxes[i, \u001B[38;5;241m1\u001B[39m], boxes[i, \u001B[38;5;241m2\u001B[39m],\n\u001B[0;32m--> 107\u001B[0m                              boxes[i, \u001B[38;5;241m3\u001B[39m], \u001B[43mcolor\u001B[49m\u001B[43m[\u001B[49m\u001B[43mi\u001B[49m\u001B[43m]\u001B[49m, thickness)\n",
      "\u001B[0;31mIndexError\u001B[0m: list index out of range"
     ]
    },
    {
     "data": {
      "text/plain": [
       "<Figure size 2000x400 with 2 Axes>"
      ],
      "image/png": "[encoded data removed]"
     },
     "metadata": {},
     "output_type": "display_data"
    }
   ],
   "execution_count": 130
  },
  {
   "metadata": {
    "ExecuteTime": {
     "end_time": "2024-09-20T17:30:09.341393Z",
     "start_time": "2024-09-20T17:30:09.338775Z"
    }
   },
   "cell_type": "code",
   "source": [
    "# # Funkcja do wyświetlania obrazu z bounding boxem\n",
    "# def display_image_with_bbox(image, bbox):\n",
    "#     # bbox jest w formacie [ymin, xmin, ymax, xmax]\n",
    "#     fig, ax = plt.subplots(1)\n",
    "#     ax.imshow(image)\n",
    "# \n",
    "#     # Współrzędne bounding boxa\n",
    "#     ymin, xmin, ymax, xmax = bbox\n",
    "# \n",
    "#     # Wyrysowanie bounding boxa na obrazie\n",
    "#     width = xmax - xmin\n",
    "#     height = ymax - ymin\n",
    "#     rect = plt.Rectangle((xmin, ymin), width, height, linewidth=2, edgecolor='r', facecolor='none')\n",
    "#     ax.add_patch(rect)\n",
    "#     plt.show()\n",
    "# \n",
    "# # Iteracja przez zbiór treningowy i wyświetlanie obrazów z bounding boxami\n",
    "# def visualize_train_dataset(dataset, num_images=5):\n",
    "#     for images, bboxes in dataset.take(num_images):  # Przerywamy po num_images\n",
    "#         for img, bbox in zip(images, bboxes):\n",
    "#             display_image_with_bbox(img, bbox)\n",
    "# \n",
    "# # Wywołanie funkcji wizualizacji\n",
    "# visualize_train_dataset(train_dataset)"
   ],
   "id": "a8d6dd2515349df5",
   "outputs": [],
   "execution_count": 57
  },
  {
   "metadata": {
    "ExecuteTime": {
     "end_time": "2024-09-20T17:30:10.037500Z",
     "start_time": "2024-09-20T17:30:10.035220Z"
    }
   },
   "cell_type": "code",
   "source": [
    "#TODO rozwiązać problem z resize() różnych rozmiarów zdjęć. Powoduje to że nie do końca pasują bboxy do niektórych zdjęć, szczególnie tych np wysokich ale wąskich. (Tutaj kwestia wyświetlania)\n",
    "#TODO zastanowić się w jaki sposób przerabiać dokładnie zdjęcia aby wrzucać je do modelu, bo tutaje już na pewno musi być dobrze zrobione bo model się źle nauczy."
   ],
   "id": "c07e3213d76aba40",
   "outputs": [],
   "execution_count": 58
  },
  {
   "metadata": {
    "ExecuteTime": {
     "end_time": "2024-09-20T17:30:10.425571Z",
     "start_time": "2024-09-20T17:30:10.423949Z"
    }
   },
   "cell_type": "code",
   "source": "",
   "id": "d933ff03b9a75e84",
   "outputs": [],
   "execution_count": 58
  },
  {
   "metadata": {
    "ExecuteTime": {
     "end_time": "2024-09-20T17:30:10.831214Z",
     "start_time": "2024-09-20T17:30:10.829141Z"
    }
   },
   "cell_type": "code",
   "source": [
    "#TODO stworzyć model uczący się z danych\n",
    "#TODO stworzyć generator wrzucający dane uczące do modelu\n",
    "#TODO Ewaluacja modelu na nowych zdjęciach"
   ],
   "id": "15a4208cd9bc3bf9",
   "outputs": [],
   "execution_count": 59
  },
  {
   "metadata": {},
   "cell_type": "markdown",
   "source": [
    "# Model uczący\n",
    "\n",
    "Użyję wstępnie przetrenowanego modelu MobileNetV2. Skorzystam z gotowych wytrenowanych wag 'imagenet' które\\\n",
    "mogę wykorzystać w modelu MobileNetV2. Kolejne warstwy za MobileNetV2 będą warstwami które umożliwią wykonywanie\\\n",
    "predykcji wartości ciągłych dotyczących czterech rogów bounding boxa.\\\n",
    "\n",
    "Warstwa dopasowania wielkości zdjęcia   (UpSampling2D)\\\n",
    "Warstwa Feature Extractor : MobileNetV2\\\n",
    "Warstwy Pooling i Flatten \\\n",
    "Warstwy Gęste (Dense)\\\n",
    "Warstwa wyjściowa (4units, linear regression)\\\n"
   ],
   "id": "5b259d5e1798e583"
  },
  {
   "metadata": {
    "ExecuteTime": {
     "end_time": "2024-09-20T17:30:12.137724Z",
     "start_time": "2024-09-20T17:30:12.135071Z"
    }
   },
   "cell_type": "code",
   "source": [
    "def feature_extractor(inputs):\n",
    "    mobilenet_model = keras.api.applications.MobileNetV2(input_shape=(224,224,3),\n",
    "                                               include_top=False,\n",
    "                                               weights='imagenet')\n",
    "    feature_extractor = mobilenet_model(inputs)\n",
    "    return feature_extractor"
   ],
   "id": "f931a216c5ff6312",
   "outputs": [],
   "execution_count": 60
  },
  {
   "metadata": {
    "ExecuteTime": {
     "end_time": "2024-09-20T17:30:13.113457Z",
     "start_time": "2024-09-20T17:30:13.110742Z"
    }
   },
   "cell_type": "code",
   "source": [
    "def dense_layers(features):\n",
    "    \n",
    "    x = GlobalAveragePooling2D()(features)\n",
    "    x = Flatten()(x)\n",
    "    x = Dense(units=1024, activation='relu')(x)\n",
    "    x = Dense(units=512, activation='relu')(x)\n",
    "    \n",
    "    return x"
   ],
   "id": "e46bc9be559114ae",
   "outputs": [],
   "execution_count": 61
  },
  {
   "metadata": {
    "ExecuteTime": {
     "end_time": "2024-09-20T17:30:13.547953Z",
     "start_time": "2024-09-20T17:30:13.545784Z"
    }
   },
   "cell_type": "code",
   "source": [
    "def bounding_box_regression(x):\n",
    "    bbox_regression = Dense(units=4, activation='linear')(x)\n",
    "    \n",
    "    return bbox_regression"
   ],
   "id": "7348cc421581ecb4",
   "outputs": [],
   "execution_count": 62
  },
  {
   "metadata": {
    "ExecuteTime": {
     "end_time": "2024-09-20T17:30:13.844996Z",
     "start_time": "2024-09-20T17:30:13.842133Z"
    }
   },
   "cell_type": "code",
   "source": [
    "def final_model(inputs):\n",
    "    feature_cnn = feature_extractor(inputs)\n",
    "    dense = dense_layers(feature_cnn)\n",
    "    regression = bounding_box_regression(dense)\n",
    "    \n",
    "    bbox_output = keras.models.Model(inputs=inputs, outputs=regression)\n",
    "    \n",
    "    return bbox_output\n"
   ],
   "id": "35efb88bb0169654",
   "outputs": [],
   "execution_count": 63
  },
  {
   "metadata": {
    "ExecuteTime": {
     "end_time": "2024-09-20T17:30:14.207701Z",
     "start_time": "2024-09-20T17:30:14.205120Z"
    }
   },
   "cell_type": "code",
   "source": [
    "def define_and_compile_model():\n",
    "    inputs = Input(shape=(224,224,3))\n",
    "    model = final_model(inputs)\n",
    "    \n",
    "    model.compile(optimizer=tf.keras.optimizers.SGD(momentum=0.9),\n",
    "                  loss='mean_squared_error',\n",
    "                  metrics=['accuracy'])\n",
    "    \n",
    "    return model"
   ],
   "id": "8130b08748c10c91",
   "outputs": [],
   "execution_count": 64
  },
  {
   "metadata": {
    "ExecuteTime": {
     "end_time": "2024-09-20T17:30:15.315503Z",
     "start_time": "2024-09-20T17:30:14.852408Z"
    }
   },
   "cell_type": "code",
   "source": [
    "model = define_and_compile_model()\n",
    "model.summary()"
   ],
   "id": "11545fa66b38ec46",
   "outputs": [
    {
     "data": {
      "text/plain": [
       "\u001B[1mModel: \"functional_1\"\u001B[0m\n"
      ],
      "text/html": [
       "<pre style=\"white-space:pre;overflow-x:auto;line-height:normal;font-family:Menlo,'DejaVu Sans Mono',consolas,'Courier New',monospace\"><span style=\"font-weight: bold\">Model: \"functional_1\"</span>\n",
       "</pre>\n"
      ]
     },
     "metadata": {},
     "output_type": "display_data"
    },
    {
     "data": {
      "text/plain": [
       "┏━━━━━━━━━━━━━━━━━━━━━━━━━━━━━━━━━┳━━━━━━━━━━━━━━━━━━━━━━━━┳━━━━━━━━━━━━━━━┓\n",
       "┃\u001B[1m \u001B[0m\u001B[1mLayer (type)                   \u001B[0m\u001B[1m \u001B[0m┃\u001B[1m \u001B[0m\u001B[1mOutput Shape          \u001B[0m\u001B[1m \u001B[0m┃\u001B[1m \u001B[0m\u001B[1m      Param #\u001B[0m\u001B[1m \u001B[0m┃\n",
       "┡━━━━━━━━━━━━━━━━━━━━━━━━━━━━━━━━━╇━━━━━━━━━━━━━━━━━━━━━━━━╇━━━━━━━━━━━━━━━┩\n",
       "│ input_layer_2 (\u001B[38;5;33mInputLayer\u001B[0m)      │ (\u001B[38;5;45mNone\u001B[0m, \u001B[38;5;34m224\u001B[0m, \u001B[38;5;34m224\u001B[0m, \u001B[38;5;34m3\u001B[0m)    │             \u001B[38;5;34m0\u001B[0m │\n",
       "├─────────────────────────────────┼────────────────────────┼───────────────┤\n",
       "│ mobilenetv2_1.00_224            │ (\u001B[38;5;45mNone\u001B[0m, \u001B[38;5;34m7\u001B[0m, \u001B[38;5;34m7\u001B[0m, \u001B[38;5;34m1280\u001B[0m)     │     \u001B[38;5;34m2,257,984\u001B[0m │\n",
       "│ (\u001B[38;5;33mFunctional\u001B[0m)                    │                        │               │\n",
       "├─────────────────────────────────┼────────────────────────┼───────────────┤\n",
       "│ global_average_pooling2d_1      │ (\u001B[38;5;45mNone\u001B[0m, \u001B[38;5;34m1280\u001B[0m)           │             \u001B[38;5;34m0\u001B[0m │\n",
       "│ (\u001B[38;5;33mGlobalAveragePooling2D\u001B[0m)        │                        │               │\n",
       "├─────────────────────────────────┼────────────────────────┼───────────────┤\n",
       "│ flatten_1 (\u001B[38;5;33mFlatten\u001B[0m)             │ (\u001B[38;5;45mNone\u001B[0m, \u001B[38;5;34m1280\u001B[0m)           │             \u001B[38;5;34m0\u001B[0m │\n",
       "├─────────────────────────────────┼────────────────────────┼───────────────┤\n",
       "│ dense_3 (\u001B[38;5;33mDense\u001B[0m)                 │ (\u001B[38;5;45mNone\u001B[0m, \u001B[38;5;34m1024\u001B[0m)           │     \u001B[38;5;34m1,311,744\u001B[0m │\n",
       "├─────────────────────────────────┼────────────────────────┼───────────────┤\n",
       "│ dense_4 (\u001B[38;5;33mDense\u001B[0m)                 │ (\u001B[38;5;45mNone\u001B[0m, \u001B[38;5;34m512\u001B[0m)            │       \u001B[38;5;34m524,800\u001B[0m │\n",
       "├─────────────────────────────────┼────────────────────────┼───────────────┤\n",
       "│ dense_5 (\u001B[38;5;33mDense\u001B[0m)                 │ (\u001B[38;5;45mNone\u001B[0m, \u001B[38;5;34m4\u001B[0m)              │         \u001B[38;5;34m2,052\u001B[0m │\n",
       "└─────────────────────────────────┴────────────────────────┴───────────────┘\n"
      ],
      "text/html": [
       "<pre style=\"white-space:pre;overflow-x:auto;line-height:normal;font-family:Menlo,'DejaVu Sans Mono',consolas,'Courier New',monospace\">┏━━━━━━━━━━━━━━━━━━━━━━━━━━━━━━━━━┳━━━━━━━━━━━━━━━━━━━━━━━━┳━━━━━━━━━━━━━━━┓\n",
       "┃<span style=\"font-weight: bold\"> Layer (type)                    </span>┃<span style=\"font-weight: bold\"> Output Shape           </span>┃<span style=\"font-weight: bold\">       Param # </span>┃\n",
       "┡━━━━━━━━━━━━━━━━━━━━━━━━━━━━━━━━━╇━━━━━━━━━━━━━━━━━━━━━━━━╇━━━━━━━━━━━━━━━┩\n",
       "│ input_layer_2 (<span style=\"color: #0087ff; text-decoration-color: #0087ff\">InputLayer</span>)      │ (<span style=\"color: #00d7ff; text-decoration-color: #00d7ff\">None</span>, <span style=\"color: #00af00; text-decoration-color: #00af00\">224</span>, <span style=\"color: #00af00; text-decoration-color: #00af00\">224</span>, <span style=\"color: #00af00; text-decoration-color: #00af00\">3</span>)    │             <span style=\"color: #00af00; text-decoration-color: #00af00\">0</span> │\n",
       "├─────────────────────────────────┼────────────────────────┼───────────────┤\n",
       "│ mobilenetv2_1.00_224            │ (<span style=\"color: #00d7ff; text-decoration-color: #00d7ff\">None</span>, <span style=\"color: #00af00; text-decoration-color: #00af00\">7</span>, <span style=\"color: #00af00; text-decoration-color: #00af00\">7</span>, <span style=\"color: #00af00; text-decoration-color: #00af00\">1280</span>)     │     <span style=\"color: #00af00; text-decoration-color: #00af00\">2,257,984</span> │\n",
       "│ (<span style=\"color: #0087ff; text-decoration-color: #0087ff\">Functional</span>)                    │                        │               │\n",
       "├─────────────────────────────────┼────────────────────────┼───────────────┤\n",
       "│ global_average_pooling2d_1      │ (<span style=\"color: #00d7ff; text-decoration-color: #00d7ff\">None</span>, <span style=\"color: #00af00; text-decoration-color: #00af00\">1280</span>)           │             <span style=\"color: #00af00; text-decoration-color: #00af00\">0</span> │\n",
       "│ (<span style=\"color: #0087ff; text-decoration-color: #0087ff\">GlobalAveragePooling2D</span>)        │                        │               │\n",
       "├─────────────────────────────────┼────────────────────────┼───────────────┤\n",
       "│ flatten_1 (<span style=\"color: #0087ff; text-decoration-color: #0087ff\">Flatten</span>)             │ (<span style=\"color: #00d7ff; text-decoration-color: #00d7ff\">None</span>, <span style=\"color: #00af00; text-decoration-color: #00af00\">1280</span>)           │             <span style=\"color: #00af00; text-decoration-color: #00af00\">0</span> │\n",
       "├─────────────────────────────────┼────────────────────────┼───────────────┤\n",
       "│ dense_3 (<span style=\"color: #0087ff; text-decoration-color: #0087ff\">Dense</span>)                 │ (<span style=\"color: #00d7ff; text-decoration-color: #00d7ff\">None</span>, <span style=\"color: #00af00; text-decoration-color: #00af00\">1024</span>)           │     <span style=\"color: #00af00; text-decoration-color: #00af00\">1,311,744</span> │\n",
       "├─────────────────────────────────┼────────────────────────┼───────────────┤\n",
       "│ dense_4 (<span style=\"color: #0087ff; text-decoration-color: #0087ff\">Dense</span>)                 │ (<span style=\"color: #00d7ff; text-decoration-color: #00d7ff\">None</span>, <span style=\"color: #00af00; text-decoration-color: #00af00\">512</span>)            │       <span style=\"color: #00af00; text-decoration-color: #00af00\">524,800</span> │\n",
       "├─────────────────────────────────┼────────────────────────┼───────────────┤\n",
       "│ dense_5 (<span style=\"color: #0087ff; text-decoration-color: #0087ff\">Dense</span>)                 │ (<span style=\"color: #00d7ff; text-decoration-color: #00d7ff\">None</span>, <span style=\"color: #00af00; text-decoration-color: #00af00\">4</span>)              │         <span style=\"color: #00af00; text-decoration-color: #00af00\">2,052</span> │\n",
       "└─────────────────────────────────┴────────────────────────┴───────────────┘\n",
       "</pre>\n"
      ]
     },
     "metadata": {},
     "output_type": "display_data"
    },
    {
     "data": {
      "text/plain": [
       "\u001B[1m Total params: \u001B[0m\u001B[38;5;34m4,096,580\u001B[0m (15.63 MB)\n"
      ],
      "text/html": [
       "<pre style=\"white-space:pre;overflow-x:auto;line-height:normal;font-family:Menlo,'DejaVu Sans Mono',consolas,'Courier New',monospace\"><span style=\"font-weight: bold\"> Total params: </span><span style=\"color: #00af00; text-decoration-color: #00af00\">4,096,580</span> (15.63 MB)\n",
       "</pre>\n"
      ]
     },
     "metadata": {},
     "output_type": "display_data"
    },
    {
     "data": {
      "text/plain": [
       "\u001B[1m Trainable params: \u001B[0m\u001B[38;5;34m4,062,468\u001B[0m (15.50 MB)\n"
      ],
      "text/html": [
       "<pre style=\"white-space:pre;overflow-x:auto;line-height:normal;font-family:Menlo,'DejaVu Sans Mono',consolas,'Courier New',monospace\"><span style=\"font-weight: bold\"> Trainable params: </span><span style=\"color: #00af00; text-decoration-color: #00af00\">4,062,468</span> (15.50 MB)\n",
       "</pre>\n"
      ]
     },
     "metadata": {},
     "output_type": "display_data"
    },
    {
     "data": {
      "text/plain": [
       "\u001B[1m Non-trainable params: \u001B[0m\u001B[38;5;34m34,112\u001B[0m (133.25 KB)\n"
      ],
      "text/html": [
       "<pre style=\"white-space:pre;overflow-x:auto;line-height:normal;font-family:Menlo,'DejaVu Sans Mono',consolas,'Courier New',monospace\"><span style=\"font-weight: bold\"> Non-trainable params: </span><span style=\"color: #00af00; text-decoration-color: #00af00\">34,112</span> (133.25 KB)\n",
       "</pre>\n"
      ]
     },
     "metadata": {},
     "output_type": "display_data"
    }
   ],
   "execution_count": 65
  },
  {
   "metadata": {},
   "cell_type": "markdown",
   "source": [
    "# Train the Model\n",
    "\n",
    "Zdefiniowanie parametrów:\n",
    "+ Epochs : 20\n",
    "+ Batch_size : 4\n",
    "+ length_of_training_dataset : 3000\n",
    "+ length_of_validation_dataset : 1000\n",
    "\n",
    "x - touple(features and labels)\n"
   ],
   "id": "3933153345d5ae83"
  },
  {
   "metadata": {
    "ExecuteTime": {
     "end_time": "2024-09-20T17:40:03.781682Z",
     "start_time": "2024-09-20T17:30:17.108843Z"
    }
   },
   "cell_type": "code",
   "source": [
    "history = model.fit(x=train_dataset,\n",
    "                    validation_data = test_dataset,\n",
    "                    epochs = 20,\n",
    "                    batch_size = 4)"
   ],
   "id": "5b5883c6df8ddfdd",
   "outputs": [
    {
     "name": "stdout",
     "output_type": "stream",
     "text": [
      "Epoch 1/20\n"
     ]
    },
    {
     "name": "stderr",
     "output_type": "stream",
     "text": [
      "WARNING: All log messages before absl::InitializeLog() is called are written to STDERR\n",
      "I0000 00:00:1726853424.356997    5872 service.cc:146] XLA service 0x7d2bac061160 initialized for platform CUDA (this does not guarantee that XLA will be used). Devices:\n",
      "I0000 00:00:1726853424.357031    5872 service.cc:154]   StreamExecutor device (0): NVIDIA GeForce RTX 4060, Compute Capability 8.9\n",
      "2024-09-20 19:30:24.601733: I tensorflow/compiler/mlir/tensorflow/utils/dump_mlir_util.cc:268] disabling MLIR crash reproducer, set env var `MLIR_CRASH_REPRODUCER_DIRECTORY` to enable.\n",
      "2024-09-20 19:30:25.320032: I external/local_xla/xla/stream_executor/cuda/cuda_dnn.cc:531] Loaded cuDNN version 8907\n",
      "2024-09-20 19:30:25.886417: W external/local_xla/xla/service/gpu/nvptx_compiler.cc:762] The NVIDIA driver's CUDA version is 12.2 which is older than the ptxas CUDA version (12.3.107). Because the driver is older than the ptxas version, XLA is disabling parallel compilation, which may slow down compilation. You should update your NVIDIA driver or use the NVIDIA-provided CUDA forward compatibility packages.\n"
     ]
    },
    {
     "name": "stdout",
     "output_type": "stream",
     "text": [
      "\u001B[1m   5/1499\u001B[0m \u001B[37m━━━━━━━━━━━━━━━━━━━━\u001B[0m \u001B[1m22s\u001B[0m 15ms/step - accuracy: 0.3658 - loss: 0.1245   "
     ]
    },
    {
     "name": "stderr",
     "output_type": "stream",
     "text": [
      "2024-09-20 19:30:39.662846: I external/local_xla/xla/stream_executor/cuda/cuda_asm_compiler.cc:393] ptxas warning : Registers are spilled to local memory in function 'input_and_reduce_fusion_1', 320 bytes spill stores, 320 bytes spill loads\n",
      "ptxas warning : Registers are spilled to local memory in function 'input_reduce_fusion', 44 bytes spill stores, 44 bytes spill loads\n",
      "\n",
      "I0000 00:00:1726853439.743753    5872 device_compiler.h:188] Compiled cluster using XLA!  This line is logged at most once for the lifetime of the process.\n"
     ]
    },
    {
     "name": "stdout",
     "output_type": "stream",
     "text": [
      "\u001B[1m1499/1499\u001B[0m \u001B[32m━━━━━━━━━━━━━━━━━━━━\u001B[0m\u001B[37m\u001B[0m \u001B[1m66s\u001B[0m 29ms/step - accuracy: 0.5808 - loss: 0.0306 - val_accuracy: 0.6702 - val_loss: 0.0139\n",
      "Epoch 2/20\n",
      "\u001B[1m1499/1499\u001B[0m \u001B[32m━━━━━━━━━━━━━━━━━━━━\u001B[0m\u001B[37m\u001B[0m \u001B[1m28s\u001B[0m 18ms/step - accuracy: 0.7042 - loss: 0.0114 - val_accuracy: 0.7639 - val_loss: 0.0078\n",
      "Epoch 3/20\n",
      "\u001B[1m1499/1499\u001B[0m \u001B[32m━━━━━━━━━━━━━━━━━━━━\u001B[0m\u001B[37m\u001B[0m \u001B[1m27s\u001B[0m 18ms/step - accuracy: 0.7264 - loss: 0.0087 - val_accuracy: 0.7736 - val_loss: 0.0068\n",
      "Epoch 4/20\n",
      "\u001B[1m1499/1499\u001B[0m \u001B[32m━━━━━━━━━━━━━━━━━━━━\u001B[0m\u001B[37m\u001B[0m \u001B[1m27s\u001B[0m 18ms/step - accuracy: 0.7622 - loss: 0.0063 - val_accuracy: 0.7901 - val_loss: 0.0056\n",
      "Epoch 5/20\n",
      "\u001B[1m1499/1499\u001B[0m \u001B[32m━━━━━━━━━━━━━━━━━━━━\u001B[0m\u001B[37m\u001B[0m \u001B[1m27s\u001B[0m 18ms/step - accuracy: 0.7783 - loss: 0.0053 - val_accuracy: 0.7920 - val_loss: 0.0053\n",
      "Epoch 6/20\n",
      "\u001B[1m1499/1499\u001B[0m \u001B[32m━━━━━━━━━━━━━━━━━━━━\u001B[0m\u001B[37m\u001B[0m \u001B[1m27s\u001B[0m 18ms/step - accuracy: 0.7857 - loss: 0.0047 - val_accuracy: 0.8081 - val_loss: 0.0047\n",
      "Epoch 7/20\n",
      "\u001B[1m1499/1499\u001B[0m \u001B[32m━━━━━━━━━━━━━━━━━━━━\u001B[0m\u001B[37m\u001B[0m \u001B[1m27s\u001B[0m 18ms/step - accuracy: 0.8047 - loss: 0.0038 - val_accuracy: 0.8143 - val_loss: 0.0047\n",
      "Epoch 8/20\n",
      "\u001B[1m1499/1499\u001B[0m \u001B[32m━━━━━━━━━━━━━━━━━━━━\u001B[0m\u001B[37m\u001B[0m \u001B[1m28s\u001B[0m 19ms/step - accuracy: 0.8257 - loss: 0.0034 - val_accuracy: 0.8208 - val_loss: 0.0045\n",
      "Epoch 9/20\n",
      "\u001B[1m1499/1499\u001B[0m \u001B[32m━━━━━━━━━━━━━━━━━━━━\u001B[0m\u001B[37m\u001B[0m \u001B[1m30s\u001B[0m 20ms/step - accuracy: 0.8259 - loss: 0.0029 - val_accuracy: 0.8190 - val_loss: 0.0043\n",
      "Epoch 10/20\n",
      "\u001B[1m1499/1499\u001B[0m \u001B[32m━━━━━━━━━━━━━━━━━━━━\u001B[0m\u001B[37m\u001B[0m \u001B[1m28s\u001B[0m 18ms/step - accuracy: 0.8479 - loss: 0.0026 - val_accuracy: 0.8231 - val_loss: 0.0040\n",
      "Epoch 11/20\n",
      "\u001B[1m1499/1499\u001B[0m \u001B[32m━━━━━━━━━━━━━━━━━━━━\u001B[0m\u001B[37m\u001B[0m \u001B[1m27s\u001B[0m 17ms/step - accuracy: 0.8547 - loss: 0.0024 - val_accuracy: 0.8250 - val_loss: 0.0039\n",
      "Epoch 12/20\n",
      "\u001B[1m1499/1499\u001B[0m \u001B[32m━━━━━━━━━━━━━━━━━━━━\u001B[0m\u001B[37m\u001B[0m \u001B[1m27s\u001B[0m 17ms/step - accuracy: 0.8547 - loss: 0.0022 - val_accuracy: 0.8262 - val_loss: 0.0038\n",
      "Epoch 13/20\n",
      "\u001B[1m1499/1499\u001B[0m \u001B[32m━━━━━━━━━━━━━━━━━━━━\u001B[0m\u001B[37m\u001B[0m \u001B[1m28s\u001B[0m 18ms/step - accuracy: 0.8712 - loss: 0.0020 - val_accuracy: 0.8334 - val_loss: 0.0038\n",
      "Epoch 14/20\n",
      "\u001B[1m1499/1499\u001B[0m \u001B[32m━━━━━━━━━━━━━━━━━━━━\u001B[0m\u001B[37m\u001B[0m \u001B[1m28s\u001B[0m 18ms/step - accuracy: 0.8670 - loss: 0.0019 - val_accuracy: 0.8357 - val_loss: 0.0036\n",
      "Epoch 15/20\n",
      "\u001B[1m1499/1499\u001B[0m \u001B[32m━━━━━━━━━━━━━━━━━━━━\u001B[0m\u001B[37m\u001B[0m \u001B[1m28s\u001B[0m 18ms/step - accuracy: 0.8756 - loss: 0.0018 - val_accuracy: 0.8200 - val_loss: 0.0038\n",
      "Epoch 16/20\n",
      "\u001B[1m1499/1499\u001B[0m \u001B[32m━━━━━━━━━━━━━━━━━━━━\u001B[0m\u001B[37m\u001B[0m \u001B[1m28s\u001B[0m 18ms/step - accuracy: 0.8814 - loss: 0.0017 - val_accuracy: 0.8378 - val_loss: 0.0035\n",
      "Epoch 17/20\n",
      "\u001B[1m1499/1499\u001B[0m \u001B[32m━━━━━━━━━━━━━━━━━━━━\u001B[0m\u001B[37m\u001B[0m \u001B[1m27s\u001B[0m 17ms/step - accuracy: 0.8787 - loss: 0.0015 - val_accuracy: 0.8398 - val_loss: 0.0034\n",
      "Epoch 18/20\n",
      "\u001B[1m1499/1499\u001B[0m \u001B[32m━━━━━━━━━━━━━━━━━━━━\u001B[0m\u001B[37m\u001B[0m \u001B[1m27s\u001B[0m 17ms/step - accuracy: 0.8893 - loss: 0.0015 - val_accuracy: 0.8488 - val_loss: 0.0033\n",
      "Epoch 19/20\n",
      "\u001B[1m1499/1499\u001B[0m \u001B[32m━━━━━━━━━━━━━━━━━━━━\u001B[0m\u001B[37m\u001B[0m \u001B[1m27s\u001B[0m 17ms/step - accuracy: 0.8881 - loss: 0.0014 - val_accuracy: 0.8448 - val_loss: 0.0034\n",
      "Epoch 20/20\n",
      "\u001B[1m1499/1499\u001B[0m \u001B[32m━━━━━━━━━━━━━━━━━━━━\u001B[0m\u001B[37m\u001B[0m \u001B[1m27s\u001B[0m 18ms/step - accuracy: 0.8960 - loss: 0.0013 - val_accuracy: 0.8431 - val_loss: 0.0033\n"
     ]
    }
   ],
   "execution_count": 66
  },
  {
   "metadata": {
    "ExecuteTime": {
     "end_time": "2024-09-20T17:42:10.948579Z",
     "start_time": "2024-09-20T17:42:05.450601Z"
    }
   },
   "cell_type": "code",
   "source": "loss = model.evaluate(test_dataset, steps=1000)",
   "id": "14712e2cbed1701d",
   "outputs": [
    {
     "name": "stdout",
     "output_type": "stream",
     "text": [
      "\u001B[1m1000/1000\u001B[0m \u001B[32m━━━━━━━━━━━━━━━━━━━━\u001B[0m\u001B[37m\u001B[0m \u001B[1m5s\u001B[0m 5ms/step - accuracy: 0.8591 - loss: 0.0036\n"
     ]
    }
   ],
   "execution_count": 77
  },
  {
   "metadata": {
    "ExecuteTime": {
     "end_time": "2024-09-20T17:44:47.344563Z",
     "start_time": "2024-09-20T17:44:47.201115Z"
    }
   },
   "cell_type": "code",
   "source": [
    "def display_history_metrics_after_training(metrics_name, title):\n",
    "    plt.title(title)\n",
    "    plt.plot(history.history[metrics_name], color='blue', label=metrics_name)\n",
    "    plt.plot(history.history['val_'+metrics_name], color='green', label='val_' + metrics_name)\n",
    "    plt.legend(loc='best')\n",
    "    \n",
    "display_history_metrics_after_training('loss','Bounding_box_loss')"
   ],
   "id": "158e56b0839ea415",
   "outputs": [
    {
     "data": {
      "text/plain": [
       "<Figure size 640x480 with 1 Axes>"
      ],
      "image/png": "[encoded data removed]"
     },
     "metadata": {},
     "output_type": "display_data"
    }
   ],
   "execution_count": 80
  },
  {
   "metadata": {},
   "cell_type": "markdown",
   "source": [
    "# Evaluate Performance Using IoU (Intersection Over Union)\n",
    "\n",
    "Możemy sprawdzić jak dobrze model radzi sobie z przewidywaniem bounding boxów\\\n",
    "dla zdjęć testowych, poprzez policzenie pokrycia rzeczywistego bboxa z\\\n",
    "tym przewidzianym przez model.\n"
   ],
   "id": "776944ebf59dc1a3"
  },
  {
   "metadata": {
    "ExecuteTime": {
     "end_time": "2024-09-20T18:51:31.119769Z",
     "start_time": "2024-09-20T18:51:31.115635Z"
    }
   },
   "cell_type": "code",
   "source": [
    "def intersection_over_union(y_true, y_pred):\n",
    "    \n",
    "    y_min_true, y_max_true, x_min_true, x_max_true = np.split(y_true, 4, axis=1)\n",
    "    y_min_pred, y_max_pred, x_min_pred, x_max_pred = np.split(y_pred, 4, axis=1)\n",
    "    \n",
    "    x_min_overlap = np.maximum(x_min_true, x_min_pred)\n",
    "    y_min_overlap = np.maximum(y_min_true, y_min_pred)\n",
    "    x_max_overlap = np.minimum(x_max_true, x_max_pred)\n",
    "    y_max_overlap = np.minimum(y_max_true, y_max_pred)\n",
    "    \n",
    "    pred_box_area = (y_max_pred - y_min_pred) * (x_max_pred - x_min_pred)\n",
    "    true_box_area = (y_max_true - y_min_true) * (x_max_true - x_min_true)\n",
    "    \n",
    "    overlap_area = np.maximum((x_max_overlap - x_min_overlap) , 0) * np.maximum((y_max_overlap - y_min_overlap) , 0)\n",
    "    union_area = pred_box_area + true_box_area - overlap_area\n",
    "    \n",
    "    smooth_value = 1e-8\n",
    "    \n",
    "    iou = (overlap_area + smooth_value) / (union_area + smooth_value)\n",
    "    \n",
    "    return iou"
   ],
   "id": "fdb03f6cb12e7d90",
   "outputs": [],
   "execution_count": 141
  },
  {
   "metadata": {
    "ExecuteTime": {
     "end_time": "2024-09-20T18:55:44.816156Z",
     "start_time": "2024-09-20T18:55:39.681056Z"
    }
   },
   "cell_type": "code",
   "source": [
    "original_image, norm_image, norm_bbox = convert_dataset_to_numpy_with_original_bboxes_utility(test_dataset_prediction, N=3)\n",
    "\n",
    "print(f'Kształt norm_image: {norm_image.shape}')  # Oczekiwane: (10, 224, 224, 3)\n",
    "print(f'Kształt norm_bbox: {norm_bbox.shape}')    # Oczekiwane: (10, 4)\n",
    "\n",
    "predicted_boxes = model.predict(norm_image.astype('float32'))"
   ],
   "id": "35dce37d0fc8dea8",
   "outputs": [
    {
     "name": "stdout",
     "output_type": "stream",
     "text": [
      "Kształt norm_image: (3, 224, 224, 3)\n",
      "Kształt norm_bbox: (3, 4)\n",
      "\u001B[1m1/1\u001B[0m \u001B[32m━━━━━━━━━━━━━━━━━━━━\u001B[0m\u001B[37m\u001B[0m \u001B[1m5s\u001B[0m 5s/step\n"
     ]
    }
   ],
   "execution_count": 147
  },
  {
   "metadata": {
    "ExecuteTime": {
     "end_time": "2024-09-20T18:55:46.302657Z",
     "start_time": "2024-09-20T18:55:46.299663Z"
    }
   },
   "cell_type": "code",
   "source": [
    "iou = intersection_over_union(predicted_boxes, norm_bbox)\n",
    "iou_threshold = 0.5\n",
    "\n",
    "print(\"Number of predictions where iou > threshold(%s): %s\" % (iou_threshold, (iou >= iou_threshold).sum()))\n",
    "print(\"Number of predictions where iou < threshold(%s): %s\" % (iou_threshold, (iou < iou_threshold).sum()))"
   ],
   "id": "e00b34324d9a5887",
   "outputs": [
    {
     "name": "stdout",
     "output_type": "stream",
     "text": [
      "Number of predictions where iou > threshold(0.5): 0\n",
      "Number of predictions where iou < threshold(0.5): 3\n"
     ]
    }
   ],
   "execution_count": 148
  },
  {
   "metadata": {
    "ExecuteTime": {
     "end_time": "2024-09-20T18:55:47.109529Z",
     "start_time": "2024-09-20T18:55:46.828762Z"
    }
   },
   "cell_type": "code",
   "source": [
    "n = 10\n",
    "indexes = np.random.choice(len(predicted_boxes), size=n)\n",
    "\n",
    "iou_to_draw = iou[indexes]\n",
    "norm_to_draw = original_image[indexes]\n",
    "display_row_of_images_with_boxes_and_iou(original_image[indexes], predicted_boxes[indexes], norm_bbox[indexes], iou[indexes], \"True and Predicted values\", bboxes_normalized=True)"
   ],
   "id": "3b0ce094483f4145",
   "outputs": [
    {
     "name": "stderr",
     "output_type": "stream",
     "text": [
      "Clipping input data to the valid range for imshow with RGB data ([0..1] for floats or [0..255] for integers). Got range [0.0..255.0].\n",
      "Clipping input data to the valid range for imshow with RGB data ([0..1] for floats or [0..255] for integers). Got range [0.0..255.0].\n",
      "Clipping input data to the valid range for imshow with RGB data ([0..1] for floats or [0..255] for integers). Got range [0.0..255.0].\n",
      "Clipping input data to the valid range for imshow with RGB data ([0..1] for floats or [0..255] for integers). Got range [0.0..255.0].\n",
      "Clipping input data to the valid range for imshow with RGB data ([0..1] for floats or [0..255] for integers). Got range [0.0..255.0].\n",
      "Clipping input data to the valid range for imshow with RGB data ([0..1] for floats or [0..255] for integers). Got range [0.0..255.0].\n",
      "Clipping input data to the valid range for imshow with RGB data ([0..1] for floats or [0..255] for integers). Got range [0.0..255.0].\n",
      "Clipping input data to the valid range for imshow with RGB data ([0..1] for floats or [0..255] for integers). Got range [0.0..255.0].\n",
      "Clipping input data to the valid range for imshow with RGB data ([0..1] for floats or [0..255] for integers). Got range [0.0..255.0].\n",
      "Clipping input data to the valid range for imshow with RGB data ([0..1] for floats or [0..255] for integers). Got range [0.0..255.0].\n"
     ]
    },
    {
     "name": "stdout",
     "output_type": "stream",
     "text": [
      "length of images in display_row_of_images_with_boxes_and_iou: 10\n",
      "bboxes to plot: [[66.3776741  97.25445557 85.89173222 93.34574795]\n",
      " [ 0.18399999  0.20958083  0.53199998  0.70059879]]\n",
      "(224, 224, 3)\n",
      "(2, 4)\n",
      "boxes shape in draw_bounding_boxes_on_image: (2, 4)\n",
      "image shape in draw_bounding_boxes_on_image: (224, 224, 3)\n",
      "bboxes to plot: [[66.3776741  97.25445557 85.89173222 93.34574795]\n",
      " [ 0.18399999  0.20958083  0.53199998  0.70059879]]\n",
      "(224, 224, 3)\n",
      "(2, 4)\n",
      "boxes shape in draw_bounding_boxes_on_image: (2, 4)\n",
      "image shape in draw_bounding_boxes_on_image: (224, 224, 3)\n",
      "bboxes to plot: [[6.64595919e+01 9.67888641e+01 8.53851786e+01 9.35666943e+01]\n",
      " [4.61818188e-01 9.99999989e-03 4.76363644e-01 9.92000028e-01]]\n",
      "(224, 224, 3)\n",
      "(2, 4)\n",
      "boxes shape in draw_bounding_boxes_on_image: (2, 4)\n",
      "image shape in draw_bounding_boxes_on_image: (224, 224, 3)\n",
      "bboxes to plot: [[66.55326557 96.77782249 85.40211487 93.45663166]\n",
      " [ 0.12012012  0.18799999  0.83183182  0.71200003]]\n",
      "(224, 224, 3)\n",
      "(2, 4)\n",
      "boxes shape in draw_bounding_boxes_on_image: (2, 4)\n",
      "image shape in draw_bounding_boxes_on_image: (224, 224, 3)\n",
      "bboxes to plot: [[6.64595919e+01 9.67888641e+01 8.53851786e+01 9.35666943e+01]\n",
      " [4.61818188e-01 9.99999989e-03 4.76363644e-01 9.92000028e-01]]\n",
      "(224, 224, 3)\n",
      "(2, 4)\n",
      "boxes shape in draw_bounding_boxes_on_image: (2, 4)\n",
      "image shape in draw_bounding_boxes_on_image: (224, 224, 3)\n",
      "bboxes to plot: [[6.64595919e+01 9.67888641e+01 8.53851786e+01 9.35666943e+01]\n",
      " [4.61818188e-01 9.99999989e-03 4.76363644e-01 9.92000028e-01]]\n",
      "(224, 224, 3)\n",
      "(2, 4)\n",
      "boxes shape in draw_bounding_boxes_on_image: (2, 4)\n",
      "image shape in draw_bounding_boxes_on_image: (224, 224, 3)\n",
      "bboxes to plot: [[6.64595919e+01 9.67888641e+01 8.53851786e+01 9.35666943e+01]\n",
      " [4.61818188e-01 9.99999989e-03 4.76363644e-01 9.92000028e-01]]\n",
      "(224, 224, 3)\n",
      "(2, 4)\n",
      "boxes shape in draw_bounding_boxes_on_image: (2, 4)\n",
      "image shape in draw_bounding_boxes_on_image: (224, 224, 3)\n",
      "bboxes to plot: [[66.3776741  97.25445557 85.89173222 93.34574795]\n",
      " [ 0.18399999  0.20958083  0.53199998  0.70059879]]\n",
      "(224, 224, 3)\n",
      "(2, 4)\n",
      "boxes shape in draw_bounding_boxes_on_image: (2, 4)\n",
      "image shape in draw_bounding_boxes_on_image: (224, 224, 3)\n",
      "bboxes to plot: [[66.3776741  97.25445557 85.89173222 93.34574795]\n",
      " [ 0.18399999  0.20958083  0.53199998  0.70059879]]\n",
      "(224, 224, 3)\n",
      "(2, 4)\n",
      "boxes shape in draw_bounding_boxes_on_image: (2, 4)\n",
      "image shape in draw_bounding_boxes_on_image: (224, 224, 3)\n",
      "bboxes to plot: [[66.55326557 96.77782249 85.40211487 93.45663166]\n",
      " [ 0.12012012  0.18799999  0.83183182  0.71200003]]\n",
      "(224, 224, 3)\n",
      "(2, 4)\n",
      "boxes shape in draw_bounding_boxes_on_image: (2, 4)\n",
      "image shape in draw_bounding_boxes_on_image: (224, 224, 3)\n"
     ]
    },
    {
     "data": {
      "text/plain": [
       "<Figure size 2000x400 with 11 Axes>"
      ],
      "image/png": "[encoded data removed]"
     },
     "metadata": {},
     "output_type": "display_data"
    }
   ],
   "execution_count": 149
  },
  {
   "metadata": {},
   "cell_type": "code",
   "outputs": [],
   "execution_count": null,
   "source": "",
   "id": "cb770df27acc0cfc"
  }
 ],
 "metadata": {
  "kernelspec": {
   "display_name": "Python 3",
   "language": "python",
   "name": "python3"
  },
  "language_info": {
   "codemirror_mode": {
    "name": "ipython",
    "version": 2
   },
   "file_extension": ".py",
   "mimetype": "text/x-python",
   "name": "python",
   "nbconvert_exporter": "python",
   "pygments_lexer": "ipython2",
   "version": "2.7.6"
  }
 },
 "nbformat": 4,
 "nbformat_minor": 5
}
