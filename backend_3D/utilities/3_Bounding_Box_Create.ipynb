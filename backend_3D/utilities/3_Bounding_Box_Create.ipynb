{
 "cells": [
  {
   "metadata": {},
   "cell_type": "markdown",
   "source": [
    "# Bounding Boxes\n",
    "\n",
    "+ Prepare good dataset to train Object localization\n",
    "+ Prepare methods for drawing bounding boxes\n",
    "+ Prepare network to predict localization\n",
    "+ Evaluate the results\n",
    "\n"
   ],
   "id": "2b6cb6cbc1ce3c2b"
  },
  {
   "metadata": {
    "ExecuteTime": {
     "end_time": "2024-09-14T12:48:07.499517Z",
     "start_time": "2024-09-14T12:48:07.496396Z"
    }
   },
   "cell_type": "code",
   "source": [
    "import os\n",
    "import numpy as np\n",
    "import matplotlib.pyplot as plt\n",
    "import PIL\n",
    "from PIL import Image, ImageDraw, ImageFont\n",
    "from keras.api.datasets import mnist\n",
    "from keras.api.utils import to_categorical\n",
    "import tensorflow as tf\n",
    "\n",
    "from keras.api.layers import Input, Dense, Dropout, Flatten, Conv2D, MaxPooling2D\n"
   ],
   "id": "c1ba3ff4a49ad352",
   "outputs": [],
   "execution_count": 219
  },
  {
   "metadata": {
    "ExecuteTime": {
     "end_time": "2024-09-14T12:48:08.066765Z",
     "start_time": "2024-09-14T12:48:07.923863Z"
    }
   },
   "cell_type": "code",
   "source": "(image_train, label_train), (image_test, label_test) = mnist.load_data()",
   "id": "a5f09de11e7c4019",
   "outputs": [],
   "execution_count": 220
  },
  {
   "metadata": {
    "ExecuteTime": {
     "end_time": "2024-09-14T12:48:08.673389Z",
     "start_time": "2024-09-14T12:48:08.666311Z"
    }
   },
   "cell_type": "code",
   "source": [
    "# read number image, create big 100x100 image, paste number to this bigger canvas\n",
    "# create bbox localization list\n",
    "# create datasets train and test after random selection\n",
    "def create_dataset():\n",
    "    \"\"\"\n",
    "    \n",
    "    :return: dataset_train, dataset_test\n",
    "    \"\"\"\n",
    "    num_samples = 10000\n",
    "    new_image_size = (100,100)\n",
    "    \n",
    "    images = np.zeros((num_samples, 100, 100, 1), dtype=np.float32)\n",
    "    labels = np.zeros((num_samples, 10), dtype=np.float32)\n",
    "    bboxes = np.zeros((num_samples, 4), dtype=np.float32)\n",
    "    \n",
    "    for i in range(num_samples):\n",
    "        digit_image = image_train[i]\n",
    "        digit_label = label_train[i]\n",
    "        \n",
    "        big_image = np.zeros(new_image_size, dtype=np.float32)\n",
    "        \n",
    "        max_x = new_image_size[1] - digit_image.shape[1]\n",
    "        max_y = new_image_size[0] - digit_image.shape[0]\n",
    "        \n",
    "        x_offset = np.random.randint(0, max_x)\n",
    "        y_offset = np.random.randint(0, max_y)\n",
    "            \n",
    "        big_image[y_offset:y_offset+28, x_offset:x_offset+28] = digit_image\n",
    "        # Normalize pixel values od 0-1 and put to images tensor\n",
    "        images[i, :, :, 0] = big_image / 255.0\n",
    "        \n",
    "        labels[i] = to_categorical(digit_label, 10)\n",
    "        \n",
    "        x_min = x_offset \n",
    "        x_max = x_offset + digit_image.shape[1]\n",
    "        y_min = y_offset\n",
    "        y_max = y_offset + digit_image.shape[0]\n",
    "        \n",
    "        x_min_norm = x_min / new_image_size[1]\n",
    "        x_max_norm = x_max / new_image_size[1]\n",
    "        y_min_norm = y_min / new_image_size[0]\n",
    "        y_max_norm = y_max / new_image_size[0]\n",
    "        \n",
    "        bboxes[i] = [x_min_norm, y_min_norm, x_max_norm, y_max_norm]\n",
    "        \n",
    "    # losowe przydzielenie do treningowego i testowego zbioru\n",
    "    indices = np.arange(num_samples)\n",
    "    np.random.seed(42)\n",
    "    np.random.shuffle(indices)\n",
    "    \n",
    "    images = images[indices]\n",
    "    labels = labels[indices]\n",
    "    bboxes = bboxes[indices]\n",
    "        \n",
    "    split_ratio = 0.8\n",
    "    split_index = int(num_samples * split_ratio)\n",
    "    \n",
    "    images_train = images[:split_index]\n",
    "    labels_train = labels[:split_index]\n",
    "    bboxes_train = bboxes[:split_index]\n",
    "    \n",
    "    images_test = images[split_index:]\n",
    "    labels_test = labels[split_index:]\n",
    "    bboxes_test = bboxes[split_index:]\n",
    "    \n",
    "    \n",
    "    \n",
    "        \n",
    "    images_tensor_train = tf.convert_to_tensor(images_train, dtype=tf.float32)\n",
    "    labels_tensor_train = tf.convert_to_tensor(labels_train, dtype=tf.float32)\n",
    "    bboxes_tensor_train = tf.convert_to_tensor(bboxes_train, dtype=tf.float32)\n",
    "    dataset_train = tf.data.Dataset.from_tensor_slices((images_tensor_train, (labels_tensor_train, bboxes_tensor_train)))\n",
    "    \n",
    "    images_tensor_test = tf.convert_to_tensor(images_test, dtype=tf.float32)\n",
    "    labels_tensor_test = tf.convert_to_tensor(labels_test, dtype=tf.float32)\n",
    "    bboxes_tensor_test = tf.convert_to_tensor(bboxes_test, dtype=tf.float32)\n",
    "    dataset_test = tf.data.Dataset.from_tensor_slices((images_tensor_test, (labels_tensor_test, bboxes_tensor_test)))\n",
    "    \n",
    "    return dataset_train, dataset_test"
   ],
   "id": "9655eb7d6a8b896",
   "outputs": [],
   "execution_count": 221
  },
  {
   "metadata": {
    "ExecuteTime": {
     "end_time": "2024-09-14T12:48:10.787519Z",
     "start_time": "2024-09-14T12:48:09.626419Z"
    }
   },
   "cell_type": "code",
   "source": [
    "dataset_train, dataset_test = create_dataset()\n",
    "dataset_train = dataset_train.batch(1000)\n",
    "dataset_test = dataset_test.batch(100)"
   ],
   "id": "f84ddbdd7aba36",
   "outputs": [],
   "execution_count": 222
  },
  {
   "metadata": {
    "ExecuteTime": {
     "end_time": "2024-09-14T12:48:11.497057Z",
     "start_time": "2024-09-14T12:48:11.319677Z"
    }
   },
   "cell_type": "code",
   "source": [
    "for batch in dataset_train.take(1):\n",
    "    images_batch, (labels_batch, bboxes_batch) = batch\n",
    "    print(\"Images batch shape:\", images_batch.shape)\n",
    "    print(\"Labels batch shape:\", labels_batch.shape)\n",
    "    print(\"Bounding boxes batch shape:\", bboxes_batch.shape)\n",
    "    "
   ],
   "id": "910330b071c8473d",
   "outputs": [
    {
     "name": "stdout",
     "output_type": "stream",
     "text": [
      "Images batch shape: (1000, 100, 100, 1)\n",
      "Labels batch shape: (1000, 10)\n",
      "Bounding boxes batch shape: (1000, 4)\n"
     ]
    }
   ],
   "execution_count": 223
  },
  {
   "metadata": {},
   "cell_type": "markdown",
   "source": "# Utilities for bounding box",
   "id": "6947f8c9756dee6d"
  },
  {
   "metadata": {
    "ExecuteTime": {
     "end_time": "2024-09-14T12:48:21.750907Z",
     "start_time": "2024-09-14T12:48:21.746285Z"
    }
   },
   "cell_type": "code",
   "source": [
    "image_width = 100\n",
    "image_height = 100\n",
    "normalized_coordinates = True\n",
    "\n",
    "def draw_bounding_boxes_array(image, bounding_boxes, label_list):\n",
    "    \"\"\"\n",
    "    \n",
    "    :return: \n",
    "    \"\"\"\n",
    "    image = (image * 255).astype(np.uint8)\n",
    "    image = np.squeeze(image)\n",
    "    image_pil = PIL.Image.fromarray(image)\n",
    "    image_rgb = PIL.Image.new('RGBA', image_pil.size)\n",
    "    image_rgb.paste(image_pil)\n",
    "    \n",
    "    draw_bounding_boxes(image_rgb, bounding_boxes, label_list)\n",
    "    \n",
    "    return image_rgb\n",
    "    \n",
    "def draw_bounding_boxes(image, bounding_boxes, label_list):\n",
    "    \"\"\"\n",
    "    \n",
    "    :param image: \n",
    "    :param bounding_boxes: \n",
    "    :param label_list: \n",
    "    :return: \n",
    "    \"\"\"\n",
    "    # Konwersja do tablic NumPy, jeśli są tensorami\n",
    "    # if tf.is_tensor(bounding_boxes):\n",
    "    #     bounding_boxes = bounding_boxes.numpy()\n",
    "    # if tf.is_tensor(label_list):\n",
    "    #     label_list = label_list.numpy()\n",
    "    # for bbox, label_one_hot in zip(bounding_boxes, label_list):\n",
    "    #     label = np.argmax(label_one_hot)\n",
    "    #     x_min, y_min, x_max, y_max = bbox\n",
    "    #     draw_bounding_box(image, x_min, y_min, x_max, y_max, label)\n",
    "    for index, bbox in enumerate(bounding_boxes):\n",
    "        label = label_list[index]\n",
    "        x_min, y_min, x_max, y_max = bbox\n",
    "        draw_bounding_box(image, x_min, y_min, x_max, y_max, label)\n",
    "        \n",
    "    label = np.argmax(label_list)\n",
    "    x_min, y_min, x_max, y_max = bounding_boxes\n",
    "    draw_bounding_box(image, x_min, y_min, x_max, y_max, label)\n",
    "    \n",
    "def draw_bounding_box(image, x_min, y_min, x_max, y_max, label):\n",
    "    \"\"\"\n",
    "    \n",
    "    :return: \n",
    "    \"\"\"\n",
    "    drawing = ImageDraw.Draw(image) # draw on selected image\n",
    "\n",
    "    if normalized_coordinates:\n",
    "        (left, right, top, bottom) = x_min * image_width, x_max * image_width, y_min * image_height, y_max * image_height\n",
    "    else:\n",
    "        (left, right, top, bottom) = x_min, y_min, x_max, y_max\n",
    "        \n",
    "    drawing.line([(left, top), (left, bottom), (right, bottom), (right, top), (left, top)])\n",
    "    #drawing.text((left, top), str(label), fill='red')\n",
    "    print(f\"label of object: {label}\")\n",
    "\n",
    "    "
   ],
   "id": "c4d704bd121f7815",
   "outputs": [],
   "execution_count": 224
  },
  {
   "metadata": {
    "ExecuteTime": {
     "end_time": "2024-09-14T12:48:22.607543Z",
     "start_time": "2024-09-14T12:48:22.605406Z"
    }
   },
   "cell_type": "code",
   "source": [
    "# bounding_boxes = [[0.34, 0.56, 0.50, 0.89],\n",
    "#                   [0.1, 0.1, 0.4, 0.5]]\n",
    "# labels = ['one', 'seven']\n",
    "# \n",
    "# draw_bounding_boxes_array(images_batch[1].numpy(), bboxes_batch[1].numpy(), labels_batch[1].numpy())"
   ],
   "id": "a28b077e4a2ecd7c",
   "outputs": [],
   "execution_count": 225
  },
  {
   "metadata": {
    "ExecuteTime": {
     "end_time": "2024-09-14T12:49:52.968079Z",
     "start_time": "2024-09-14T12:49:52.964855Z"
    }
   },
   "cell_type": "code",
   "source": [
    "# display digits with boxes\n",
    "def display_digits_with_boxes(image, predictions, true_labels, pred_bboxes, true_bboxes, iou, title):\n",
    "    \n",
    "    #fig, axs = plt.subplots(nrows=1, ncols=4, figsize=(15, 4))\n",
    "    #for i in range(4):\n",
    "    # image_plot = image\n",
    "    # #predictions = predictions[i].numpy()\n",
    "    # true_labels = true_labels\n",
    "    # true_bboxes = true_bboxes\n",
    "    \n",
    "    #image_box = draw_bounding_boxes_array(image, true_bboxes, true_labels)\n",
    "    #img_np = np.array(image_box)\n",
    "    \n",
    "    # axs[i].imshow(img_np)\n",
    "    # axs[i].set_title(title)\n",
    "    # axs[i].axis('off')\n",
    "\n",
    "    #plt.show(img_np)\n",
    "    \n",
    "    "
   ],
   "id": "c8f9175a113e9871",
   "outputs": [
    {
     "ename": "SyntaxError",
     "evalue": "incomplete input (170811423.py, line 20)",
     "output_type": "error",
     "traceback": [
      "\u001B[0;36m  Cell \u001B[0;32mIn[235], line 20\u001B[0;36m\u001B[0m\n\u001B[0;31m    \u001B[0m\n\u001B[0m    ^\u001B[0m\n\u001B[0;31mSyntaxError\u001B[0m\u001B[0;31m:\u001B[0m incomplete input\n"
     ]
    }
   ],
   "execution_count": 235
  },
  {
   "metadata": {
    "ExecuteTime": {
     "end_time": "2024-09-14T12:49:53.492043Z",
     "start_time": "2024-09-14T12:49:53.455940Z"
    }
   },
   "cell_type": "code",
   "source": [
    "display_digits_with_boxes(images_batch[0].numpy(), labels_batch[0].numpy(), labels_batch[0].numpy(),\n",
    "                          np.array([]), bboxes_batch[0].numpy(), np.array([]), \"training boxes\")"
   ],
   "id": "196742b9ed4d8772",
   "outputs": [
    {
     "ename": "TypeError",
     "evalue": "cannot unpack non-iterable numpy.float32 object",
     "output_type": "error",
     "traceback": [
      "\u001B[0;31m---------------------------------------------------------------------------\u001B[0m",
      "\u001B[0;31mTypeError\u001B[0m                                 Traceback (most recent call last)",
      "Cell \u001B[0;32mIn[236], line 1\u001B[0m\n\u001B[0;32m----> 1\u001B[0m \u001B[43mdisplay_digits_with_boxes\u001B[49m\u001B[43m(\u001B[49m\u001B[43mimages_batch\u001B[49m\u001B[43m[\u001B[49m\u001B[38;5;241;43m0\u001B[39;49m\u001B[43m]\u001B[49m\u001B[38;5;241;43m.\u001B[39;49m\u001B[43mnumpy\u001B[49m\u001B[43m(\u001B[49m\u001B[43m)\u001B[49m\u001B[43m,\u001B[49m\u001B[43m \u001B[49m\u001B[43mlabels_batch\u001B[49m\u001B[43m[\u001B[49m\u001B[38;5;241;43m0\u001B[39;49m\u001B[43m]\u001B[49m\u001B[38;5;241;43m.\u001B[39;49m\u001B[43mnumpy\u001B[49m\u001B[43m(\u001B[49m\u001B[43m)\u001B[49m\u001B[43m,\u001B[49m\u001B[43m \u001B[49m\u001B[43mlabels_batch\u001B[49m\u001B[43m[\u001B[49m\u001B[38;5;241;43m0\u001B[39;49m\u001B[43m]\u001B[49m\u001B[38;5;241;43m.\u001B[39;49m\u001B[43mnumpy\u001B[49m\u001B[43m(\u001B[49m\u001B[43m)\u001B[49m\u001B[43m,\u001B[49m\n\u001B[1;32m      2\u001B[0m \u001B[43m                          \u001B[49m\u001B[43mnp\u001B[49m\u001B[38;5;241;43m.\u001B[39;49m\u001B[43marray\u001B[49m\u001B[43m(\u001B[49m\u001B[43m[\u001B[49m\u001B[43m]\u001B[49m\u001B[43m)\u001B[49m\u001B[43m,\u001B[49m\u001B[43m \u001B[49m\u001B[43mbboxes_batch\u001B[49m\u001B[43m[\u001B[49m\u001B[38;5;241;43m0\u001B[39;49m\u001B[43m]\u001B[49m\u001B[38;5;241;43m.\u001B[39;49m\u001B[43mnumpy\u001B[49m\u001B[43m(\u001B[49m\u001B[43m)\u001B[49m\u001B[43m,\u001B[49m\u001B[43m \u001B[49m\u001B[43mnp\u001B[49m\u001B[38;5;241;43m.\u001B[39;49m\u001B[43marray\u001B[49m\u001B[43m(\u001B[49m\u001B[43m[\u001B[49m\u001B[43m]\u001B[49m\u001B[43m)\u001B[49m\u001B[43m,\u001B[49m\u001B[43m \u001B[49m\u001B[38;5;124;43m\"\u001B[39;49m\u001B[38;5;124;43mtraining boxes\u001B[39;49m\u001B[38;5;124;43m\"\u001B[39;49m\u001B[43m)\u001B[49m\n",
      "Cell \u001B[0;32mIn[233], line 11\u001B[0m, in \u001B[0;36mdisplay_digits_with_boxes\u001B[0;34m(image, predictions, true_labels, pred_bboxes, true_bboxes, iou, title)\u001B[0m\n\u001B[1;32m      2\u001B[0m \u001B[38;5;28;01mdef\u001B[39;00m \u001B[38;5;21mdisplay_digits_with_boxes\u001B[39m(image, predictions, true_labels, pred_bboxes, true_bboxes, iou, title):\n\u001B[1;32m      3\u001B[0m     \n\u001B[1;32m      4\u001B[0m     \u001B[38;5;66;03m#fig, axs = plt.subplots(nrows=1, ncols=4, figsize=(15, 4))\u001B[39;00m\n\u001B[0;32m   (...)\u001B[0m\n\u001B[1;32m      8\u001B[0m     \u001B[38;5;66;03m# true_labels = true_labels\u001B[39;00m\n\u001B[1;32m      9\u001B[0m     \u001B[38;5;66;03m# true_bboxes = true_bboxes\u001B[39;00m\n\u001B[0;32m---> 11\u001B[0m     image_box \u001B[38;5;241m=\u001B[39m \u001B[43mdraw_bounding_boxes_array\u001B[49m\u001B[43m(\u001B[49m\u001B[43mimage\u001B[49m\u001B[43m,\u001B[49m\u001B[43m \u001B[49m\u001B[43mtrue_bboxes\u001B[49m\u001B[43m,\u001B[49m\u001B[43m \u001B[49m\u001B[43mtrue_labels\u001B[49m\u001B[43m)\u001B[49m\n",
      "Cell \u001B[0;32mIn[224], line 16\u001B[0m, in \u001B[0;36mdraw_bounding_boxes_array\u001B[0;34m(image, bounding_boxes, label_list)\u001B[0m\n\u001B[1;32m     13\u001B[0m image_rgb \u001B[38;5;241m=\u001B[39m PIL\u001B[38;5;241m.\u001B[39mImage\u001B[38;5;241m.\u001B[39mnew(\u001B[38;5;124m'\u001B[39m\u001B[38;5;124mRGBA\u001B[39m\u001B[38;5;124m'\u001B[39m, image_pil\u001B[38;5;241m.\u001B[39msize)\n\u001B[1;32m     14\u001B[0m image_rgb\u001B[38;5;241m.\u001B[39mpaste(image_pil)\n\u001B[0;32m---> 16\u001B[0m \u001B[43mdraw_bounding_boxes\u001B[49m\u001B[43m(\u001B[49m\u001B[43mimage_rgb\u001B[49m\u001B[43m,\u001B[49m\u001B[43m \u001B[49m\u001B[43mbounding_boxes\u001B[49m\u001B[43m,\u001B[49m\u001B[43m \u001B[49m\u001B[43mlabel_list\u001B[49m\u001B[43m)\u001B[49m\n\u001B[1;32m     18\u001B[0m \u001B[38;5;28;01mreturn\u001B[39;00m image_rgb\n",
      "Cell \u001B[0;32mIn[224], line 39\u001B[0m, in \u001B[0;36mdraw_bounding_boxes\u001B[0;34m(image, bounding_boxes, label_list)\u001B[0m\n\u001B[1;32m     37\u001B[0m \u001B[38;5;28;01mfor\u001B[39;00m index, bbox \u001B[38;5;129;01min\u001B[39;00m \u001B[38;5;28menumerate\u001B[39m(bounding_boxes):\n\u001B[1;32m     38\u001B[0m     label \u001B[38;5;241m=\u001B[39m label_list[index]\n\u001B[0;32m---> 39\u001B[0m     x_min, y_min, x_max, y_max \u001B[38;5;241m=\u001B[39m bbox\n\u001B[1;32m     40\u001B[0m     draw_bounding_box(image, x_min, y_min, x_max, y_max, label)\n\u001B[1;32m     42\u001B[0m label \u001B[38;5;241m=\u001B[39m np\u001B[38;5;241m.\u001B[39margmax(label_list)\n",
      "\u001B[0;31mTypeError\u001B[0m: cannot unpack non-iterable numpy.float32 object"
     ]
    }
   ],
   "execution_count": 236
  },
  {
   "metadata": {
    "ExecuteTime": {
     "end_time": "2024-09-14T12:48:35.869944Z",
     "start_time": "2024-09-14T12:48:35.865617Z"
    }
   },
   "cell_type": "code",
   "source": "images_batch[0].numpy()",
   "id": "cff999c9ddd19aa7",
   "outputs": [
    {
     "data": {
      "text/plain": [
       "array([[[0.],\n",
       "        [0.],\n",
       "        [0.],\n",
       "        ...,\n",
       "        [0.],\n",
       "        [0.],\n",
       "        [0.]],\n",
       "\n",
       "       [[0.],\n",
       "        [0.],\n",
       "        [0.],\n",
       "        ...,\n",
       "        [0.],\n",
       "        [0.],\n",
       "        [0.]],\n",
       "\n",
       "       [[0.],\n",
       "        [0.],\n",
       "        [0.],\n",
       "        ...,\n",
       "        [0.],\n",
       "        [0.],\n",
       "        [0.]],\n",
       "\n",
       "       ...,\n",
       "\n",
       "       [[0.],\n",
       "        [0.],\n",
       "        [0.],\n",
       "        ...,\n",
       "        [0.],\n",
       "        [0.],\n",
       "        [0.]],\n",
       "\n",
       "       [[0.],\n",
       "        [0.],\n",
       "        [0.],\n",
       "        ...,\n",
       "        [0.],\n",
       "        [0.],\n",
       "        [0.]],\n",
       "\n",
       "       [[0.],\n",
       "        [0.],\n",
       "        [0.],\n",
       "        ...,\n",
       "        [0.],\n",
       "        [0.],\n",
       "        [0.]]], dtype=float32)"
      ]
     },
     "execution_count": 228,
     "metadata": {},
     "output_type": "execute_result"
    }
   ],
   "execution_count": 228
  },
  {
   "metadata": {
    "ExecuteTime": {
     "end_time": "2024-09-14T12:45:59.032178Z",
     "start_time": "2024-09-14T12:45:59.028361Z"
    }
   },
   "cell_type": "code",
   "source": [
    "def dataset_to_numpy_util(training_dataset, validation_dataset, N):\n",
    "  \n",
    "  # get one batch from each: 10000 validation digits, N training digits\n",
    "  batch_train_ds = training_dataset.unbatch().batch(N)\n",
    "  \n",
    "  # eager execution: loop through datasets normally\n",
    "  if tf.executing_eagerly():\n",
    "    for validation_digits, (validation_labels, validation_bboxes) in validation_dataset:\n",
    "      validation_digits = validation_digits.numpy()\n",
    "      validation_labels = validation_labels.numpy()\n",
    "      validation_bboxes = validation_bboxes.numpy()\n",
    "      break\n",
    "    for training_digits, (training_labels, training_bboxes) in batch_train_ds:\n",
    "      training_digits = training_digits.numpy()\n",
    "      training_labels = training_labels.numpy()\n",
    "      training_bboxes = training_bboxes.numpy()\n",
    "      break\n",
    "  \n",
    "  # these were one-hot encoded in the dataset\n",
    "  validation_labels = np.argmax(validation_labels, axis=1)\n",
    "  training_labels = np.argmax(training_labels, axis=1)\n",
    "  \n",
    "  return (training_digits, training_labels, training_bboxes,\n",
    "          validation_digits, validation_labels, validation_bboxes)"
   ],
   "id": "589e23e46a908361",
   "outputs": [],
   "execution_count": 203
  },
  {
   "metadata": {
    "ExecuteTime": {
     "end_time": "2024-09-14T12:45:59.626844Z",
     "start_time": "2024-09-14T12:45:59.438215Z"
    }
   },
   "cell_type": "code",
   "source": [
    "(training_digits, training_labels, training_bboxes,\n",
    " validation_digits, validation_labels, validation_bboxes) = dataset_to_numpy_util(dataset_train, dataset_test, 10)"
   ],
   "id": "e4d85ee0a50ff70e",
   "outputs": [],
   "execution_count": 204
  },
  {
   "metadata": {
    "ExecuteTime": {
     "end_time": "2024-09-14T12:46:00.431254Z",
     "start_time": "2024-09-14T12:46:00.197477Z"
    }
   },
   "cell_type": "code",
   "source": [
    "display_digits_with_boxes(training_digits, training_labels, training_labels,\n",
    "                          np.array([]), training_bboxes, np.array([]), \"training boxes\")"
   ],
   "id": "c0b24cbeabb46ea4",
   "outputs": [
    {
     "ename": "IndexError",
     "evalue": "invalid index to scalar variable.",
     "output_type": "error",
     "traceback": [
      "\u001B[0;31m---------------------------------------------------------------------------\u001B[0m",
      "\u001B[0;31mIndexError\u001B[0m                                Traceback (most recent call last)",
      "Cell \u001B[0;32mIn[205], line 1\u001B[0m\n\u001B[0;32m----> 1\u001B[0m \u001B[43mdisplay_digits_with_boxes\u001B[49m\u001B[43m(\u001B[49m\u001B[43mtraining_digits\u001B[49m\u001B[43m,\u001B[49m\u001B[43m \u001B[49m\u001B[43mtraining_labels\u001B[49m\u001B[43m,\u001B[49m\u001B[43m \u001B[49m\u001B[43mtraining_labels\u001B[49m\u001B[43m,\u001B[49m\n\u001B[1;32m      2\u001B[0m \u001B[43m                          \u001B[49m\u001B[43mnp\u001B[49m\u001B[38;5;241;43m.\u001B[39;49m\u001B[43marray\u001B[49m\u001B[43m(\u001B[49m\u001B[43m[\u001B[49m\u001B[43m]\u001B[49m\u001B[43m)\u001B[49m\u001B[43m,\u001B[49m\u001B[43m \u001B[49m\u001B[43mtraining_bboxes\u001B[49m\u001B[43m,\u001B[49m\u001B[43m \u001B[49m\u001B[43mnp\u001B[49m\u001B[38;5;241;43m.\u001B[39;49m\u001B[43marray\u001B[49m\u001B[43m(\u001B[49m\u001B[43m[\u001B[49m\u001B[43m]\u001B[49m\u001B[43m)\u001B[49m\u001B[43m,\u001B[49m\u001B[43m \u001B[49m\u001B[38;5;124;43m\"\u001B[39;49m\u001B[38;5;124;43mtraining boxes\u001B[39;49m\u001B[38;5;124;43m\"\u001B[39;49m\u001B[43m)\u001B[49m\n",
      "Cell \u001B[0;32mIn[201], line 11\u001B[0m, in \u001B[0;36mdisplay_digits_with_boxes\u001B[0;34m(image, predictions, true_labels, pred_bboxes, true_bboxes, iou, title)\u001B[0m\n\u001B[1;32m      8\u001B[0m true_labels \u001B[38;5;241m=\u001B[39m true_labels[i]\n\u001B[1;32m      9\u001B[0m true_bboxes \u001B[38;5;241m=\u001B[39m true_bboxes[i]\n\u001B[0;32m---> 11\u001B[0m image_box \u001B[38;5;241m=\u001B[39m \u001B[43mdraw_bounding_boxes_array\u001B[49m\u001B[43m(\u001B[49m\u001B[43mimage_plot\u001B[49m\u001B[43m,\u001B[49m\u001B[43m \u001B[49m\u001B[43mtrue_bboxes\u001B[49m\u001B[43m,\u001B[49m\u001B[43m \u001B[49m\u001B[43mtrue_labels\u001B[49m\u001B[43m)\u001B[49m\n\u001B[1;32m     12\u001B[0m img_np \u001B[38;5;241m=\u001B[39m np\u001B[38;5;241m.\u001B[39marray(image_box)\n\u001B[1;32m     14\u001B[0m axs[i]\u001B[38;5;241m.\u001B[39mimshow(img_np)\n",
      "Cell \u001B[0;32mIn[199], line 16\u001B[0m, in \u001B[0;36mdraw_bounding_boxes_array\u001B[0;34m(image, bounding_boxes, label_list)\u001B[0m\n\u001B[1;32m     13\u001B[0m image_rgb \u001B[38;5;241m=\u001B[39m PIL\u001B[38;5;241m.\u001B[39mImage\u001B[38;5;241m.\u001B[39mnew(\u001B[38;5;124m'\u001B[39m\u001B[38;5;124mRGBA\u001B[39m\u001B[38;5;124m'\u001B[39m, image_pil\u001B[38;5;241m.\u001B[39msize)\n\u001B[1;32m     14\u001B[0m image_rgb\u001B[38;5;241m.\u001B[39mpaste(image_pil)\n\u001B[0;32m---> 16\u001B[0m \u001B[43mdraw_bounding_boxes\u001B[49m\u001B[43m(\u001B[49m\u001B[43mimage_rgb\u001B[49m\u001B[43m,\u001B[49m\u001B[43m \u001B[49m\u001B[43mbounding_boxes\u001B[49m\u001B[43m,\u001B[49m\u001B[43m \u001B[49m\u001B[43mlabel_list\u001B[49m\u001B[43m)\u001B[49m\n\u001B[1;32m     18\u001B[0m \u001B[38;5;28;01mreturn\u001B[39;00m image_rgb\n",
      "Cell \u001B[0;32mIn[199], line 38\u001B[0m, in \u001B[0;36mdraw_bounding_boxes\u001B[0;34m(image, bounding_boxes, label_list)\u001B[0m\n\u001B[1;32m     28\u001B[0m \u001B[38;5;66;03m# Konwersja do tablic NumPy, jeśli są tensorami\u001B[39;00m\n\u001B[1;32m     29\u001B[0m \u001B[38;5;66;03m# if tf.is_tensor(bounding_boxes):\u001B[39;00m\n\u001B[1;32m     30\u001B[0m \u001B[38;5;66;03m#     bounding_boxes = bounding_boxes.numpy()\u001B[39;00m\n\u001B[0;32m   (...)\u001B[0m\n\u001B[1;32m     35\u001B[0m \u001B[38;5;66;03m#     x_min, y_min, x_max, y_max = bbox\u001B[39;00m\n\u001B[1;32m     36\u001B[0m \u001B[38;5;66;03m#     draw_bounding_box(image, x_min, y_min, x_max, y_max, label)\u001B[39;00m\n\u001B[1;32m     37\u001B[0m \u001B[38;5;28;01mfor\u001B[39;00m index, bbox \u001B[38;5;129;01min\u001B[39;00m \u001B[38;5;28menumerate\u001B[39m(bounding_boxes):\n\u001B[0;32m---> 38\u001B[0m     label \u001B[38;5;241m=\u001B[39m \u001B[43mlabel_list\u001B[49m\u001B[43m[\u001B[49m\u001B[43mindex\u001B[49m\u001B[43m]\u001B[49m\n\u001B[1;32m     39\u001B[0m     x_min, y_min, x_max, y_max \u001B[38;5;241m=\u001B[39m bbox\n\u001B[1;32m     40\u001B[0m     draw_bounding_box(image, x_min, y_min, x_max, y_max, label)\n",
      "\u001B[0;31mIndexError\u001B[0m: invalid index to scalar variable."
     ]
    },
    {
     "data": {
      "text/plain": [
       "<Figure size 1500x400 with 4 Axes>"
      ],
      "image/png": "[encoded data removed]"
     },
     "metadata": {},
     "output_type": "display_data"
    }
   ],
   "execution_count": 205
  },
  {
   "metadata": {},
   "cell_type": "code",
   "outputs": [],
   "execution_count": null,
   "source": "",
   "id": "b127e1fdd2cc96b2"
  }
 ],
 "metadata": {
  "kernelspec": {
   "display_name": "Python 3",
   "language": "python",
   "name": "python3"
  },
  "language_info": {
   "codemirror_mode": {
    "name": "ipython",
    "version": 2
   },
   "file_extension": ".py",
   "mimetype": "text/x-python",
   "name": "python",
   "nbconvert_exporter": "python",
   "pygments_lexer": "ipython2",
   "version": "2.7.6"
  }
 },
 "nbformat": 4,
 "nbformat_minor": 5
}
