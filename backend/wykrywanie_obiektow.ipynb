{
 "cells": [
  {
   "metadata": {},
   "cell_type": "markdown",
   "source": "# Trenowanie tensorów",
   "id": "ed239f3a95181ae2"
  },
  {
   "cell_type": "code",
   "id": "initial_id",
   "metadata": {
    "collapsed": true,
    "ExecuteTime": {
     "end_time": "2024-08-17T14:57:55.249900Z",
     "start_time": "2024-08-17T14:57:55.247645Z"
    }
   },
   "source": [
    "import tensorflow as tf\n",
    "import numpy as np"
   ],
   "outputs": [],
   "execution_count": 43
  },
  {
   "metadata": {
    "ExecuteTime": {
     "end_time": "2024-08-17T15:17:04.985932Z",
     "start_time": "2024-08-17T15:17:04.983086Z"
    }
   },
   "cell_type": "code",
   "source": "tensor_idx = tf.constant([1.23, 10.65])",
   "id": "6a1ff6d354e4df58",
   "outputs": [],
   "execution_count": 59
  },
  {
   "metadata": {
    "ExecuteTime": {
     "end_time": "2024-08-17T15:06:07.068089Z",
     "start_time": "2024-08-17T15:06:07.062883Z"
    }
   },
   "cell_type": "code",
   "source": "tensor_idx[..., 2:5]",
   "id": "88b473021f1ef611",
   "outputs": [
    {
     "data": {
      "text/plain": [
       "<tf.Tensor: shape=(0,), dtype=float32, numpy=array([], dtype=float32)>"
      ]
     },
     "execution_count": 54,
     "metadata": {},
     "output_type": "execute_result"
    }
   ],
   "execution_count": 54
  },
  {
   "metadata": {
    "ExecuteTime": {
     "end_time": "2024-08-17T15:00:29.119090Z",
     "start_time": "2024-08-17T15:00:29.116735Z"
    }
   },
   "cell_type": "code",
   "source": "tab = np.zeros(shape=(3,4,5))",
   "id": "53b51aa6e6b86649",
   "outputs": [],
   "execution_count": 46
  },
  {
   "metadata": {
    "ExecuteTime": {
     "end_time": "2024-08-17T15:00:31.826937Z",
     "start_time": "2024-08-17T15:00:31.804517Z"
    }
   },
   "cell_type": "code",
   "source": "tf.convert_to_tensor(tab)",
   "id": "2e7354fda741bd36",
   "outputs": [
    {
     "data": {
      "text/plain": [
       "<tf.Tensor: shape=(3, 4, 5), dtype=float64, numpy=\n",
       "array([[[0., 0., 0., 0., 0.],\n",
       "        [0., 0., 0., 0., 0.],\n",
       "        [0., 0., 0., 0., 0.],\n",
       "        [0., 0., 0., 0., 0.]],\n",
       "\n",
       "       [[0., 0., 0., 0., 0.],\n",
       "        [0., 0., 0., 0., 0.],\n",
       "        [0., 0., 0., 0., 0.],\n",
       "        [0., 0., 0., 0., 0.]],\n",
       "\n",
       "       [[0., 0., 0., 0., 0.],\n",
       "        [0., 0., 0., 0., 0.],\n",
       "        [0., 0., 0., 0., 0.],\n",
       "        [0., 0., 0., 0., 0.]]])>"
      ]
     },
     "execution_count": 47,
     "metadata": {},
     "output_type": "execute_result"
    }
   ],
   "execution_count": 47
  },
  {
   "metadata": {
    "ExecuteTime": {
     "end_time": "2024-08-17T15:06:19.389581Z",
     "start_time": "2024-08-17T15:06:19.385117Z"
    }
   },
   "cell_type": "code",
   "source": "tf.math.cos(tensor_idx)",
   "id": "29dfa00e7aa03f29",
   "outputs": [
    {
     "data": {
      "text/plain": [
       "<tf.Tensor: shape=(2,), dtype=float32, numpy=array([ 0.33423772, -0.33873743], dtype=float32)>"
      ]
     },
     "execution_count": 57,
     "metadata": {},
     "output_type": "execute_result"
    }
   ],
   "execution_count": 57
  },
  {
   "metadata": {
    "ExecuteTime": {
     "end_time": "2024-08-17T15:17:06.720974Z",
     "start_time": "2024-08-17T15:17:06.717646Z"
    }
   },
   "cell_type": "code",
   "source": "tf.math.argmax(tensor_idx)",
   "id": "ea280f1ea2d2bdaf",
   "outputs": [
    {
     "data": {
      "text/plain": [
       "<tf.Tensor: shape=(), dtype=int64, numpy=1>"
      ]
     },
     "execution_count": 60,
     "metadata": {},
     "output_type": "execute_result"
    }
   ],
   "execution_count": 60
  },
  {
   "metadata": {
    "ExecuteTime": {
     "end_time": "2024-08-17T15:23:09.640826Z",
     "start_time": "2024-08-17T15:23:09.637938Z"
    }
   },
   "cell_type": "code",
   "source": [
    "B = tf.constant([[2, 20, 30, 3, 6], \n",
    "                 [3, 11, 16, 1, 8],\n",
    "                 [14, 45, 23, 5, 27]])\n"
   ],
   "id": "1a2f399323c6b131",
   "outputs": [],
   "execution_count": 79
  },
  {
   "metadata": {
    "ExecuteTime": {
     "end_time": "2024-08-17T15:23:09.769922Z",
     "start_time": "2024-08-17T15:23:09.766850Z"
    }
   },
   "cell_type": "code",
   "source": "print(tf.math.argmax(B, axis=0))",
   "id": "c723c064c050f551",
   "outputs": [
    {
     "name": "stdout",
     "output_type": "stream",
     "text": [
      "tf.Tensor([2 2 0 2 2], shape=(5,), dtype=int64)\n"
     ]
    }
   ],
   "execution_count": 80
  },
  {
   "metadata": {},
   "cell_type": "code",
   "outputs": [],
   "execution_count": null,
   "source": "",
   "id": "1e37bfd37cf59d86"
  }
 ],
 "metadata": {
  "kernelspec": {
   "display_name": "Python 3",
   "language": "python",
   "name": "python3"
  },
  "language_info": {
   "codemirror_mode": {
    "name": "ipython",
    "version": 2
   },
   "file_extension": ".py",
   "mimetype": "text/x-python",
   "name": "python",
   "nbconvert_exporter": "python",
   "pygments_lexer": "ipython2",
   "version": "2.7.6"
  }
 },
 "nbformat": 4,
 "nbformat_minor": 5
}
